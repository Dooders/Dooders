{
 "cells": [
  {
   "cell_type": "code",
   "execution_count": 1,
   "id": "727c0c36",
   "metadata": {
    "ExecuteTime": {
     "end_time": "2022-08-31T20:31:43.567770Z",
     "start_time": "2022-08-31T20:31:42.278771Z"
    }
   },
   "outputs": [],
   "source": [
    "from experiment import Experiment\n",
    "\n",
    "from sdk.dooder import Dooder\n",
    "from sdk.environment.energy import Energy\n",
    "from sdk.config import ExperimentParameters"
   ]
  },
  {
   "cell_type": "code",
   "execution_count": 2,
   "id": "36a398c4",
   "metadata": {
    "ExecuteTime": {
     "end_time": "2022-08-31T20:31:43.582771Z",
     "start_time": "2022-08-31T20:31:43.570771Z"
    }
   },
   "outputs": [],
   "source": [
    "# override parameters, get object fix, get random object, stop conditions"
   ]
  },
  {
   "cell_type": "code",
   "execution_count": 3,
   "id": "b9b8ae91",
   "metadata": {
    "ExecuteTime": {
     "end_time": "2022-08-31T20:31:43.598777Z",
     "start_time": "2022-08-31T20:31:43.589773Z"
    }
   },
   "outputs": [],
   "source": [
    "with open(\"sdk/config.json\", \"r\") as f:\n",
    "     config = json.load(f)"
   ]
  },
  {
   "cell_type": "code",
   "execution_count": 4,
   "id": "f2cb532f",
   "metadata": {
    "ExecuteTime": {
     "end_time": "2022-08-31T20:31:43.629774Z",
     "start_time": "2022-08-31T20:31:43.603772Z"
    }
   },
   "outputs": [
    {
     "name": "stdout",
     "output_type": "stream",
     "text": [
      "Simulation=SimulationParameters(MaxCycles=100, StopConditions=None, CycleEnergyAdd=10, Granularity=2) Environment=EnvironmentParameters(Width=28, Height=28, Torus=True) Dooder=DooderParameters(StartingEnergySupply=5, StartingAgentCount=10, Moore=True) Energy=EnergyParameters(MaxLifespan=10, MinLifeSpan=2, StartingEnergyCount=10) Information=InformationParameters(Collectors=['DooderCount', 'EnergyCount', 'DirectionCount'])\n"
     ]
    }
   ],
   "source": [
    "# DEFAULT_PARAMETERS = {\n",
    "#     'width':20,\n",
    "#     'height':20,\n",
    "#     'agents':10,\n",
    "#     'verbose':True,\n",
    "#     'verbosity':1,\n",
    "#     'steps':10,\n",
    "#     'granularity':2, # make so this goes through\n",
    "#     'initial_energy_value': 1,\n",
    "#     'initial_energy_count': 20,\n",
    "#     'max_energy_life_span': 5\n",
    "# }\n",
    "experiment = Experiment(config)"
   ]
  },
  {
   "cell_type": "code",
   "execution_count": 5,
   "id": "d1b16ca6",
   "metadata": {
    "ExecuteTime": {
     "end_time": "2022-08-31T20:31:43.739821Z",
     "start_time": "2022-08-31T20:31:43.632768Z"
    },
    "scrolled": false
   },
   "outputs": [],
   "source": [
    "# experiment.simulation.step()\n",
    "experiment.simulation.run_simulation()\n",
    "# experiment.simulation.setup()\n",
    "# experiment.simulation.cycle()\n",
    "# for i in range(10):\n",
    "#     experiment.simulation.cycle()"
   ]
  },
  {
   "cell_type": "code",
   "execution_count": 6,
   "id": "6010846f",
   "metadata": {
    "ExecuteTime": {
     "end_time": "2022-08-31T20:31:43.755770Z",
     "start_time": "2022-08-31T20:31:43.741771Z"
    }
   },
   "outputs": [],
   "source": [
    "results = experiment.simulation.get_results()"
   ]
  },
  {
   "cell_type": "code",
   "execution_count": 7,
   "id": "17dad1b4",
   "metadata": {
    "ExecuteTime": {
     "end_time": "2022-08-31T20:31:43.785772Z",
     "start_time": "2022-08-31T20:31:43.757798Z"
    }
   },
   "outputs": [
    {
     "data": {
      "text/plain": [
       "{'CycleCount': 100, 'DooderCount': 0, 'EnergyCount': 53, 'DirectionCounts': {}}"
      ]
     },
     "execution_count": 7,
     "metadata": {},
     "output_type": "execute_result"
    }
   ],
   "source": [
    "results"
   ]
  },
  {
   "cell_type": "code",
   "execution_count": 8,
   "id": "cbc7b258",
   "metadata": {
    "ExecuteTime": {
     "end_time": "2022-08-31T20:31:43.816772Z",
     "start_time": "2022-08-31T20:31:43.788770Z"
    }
   },
   "outputs": [
    {
     "data": {
      "text/html": [
       "<div>\n",
       "<style scoped>\n",
       "    .dataframe tbody tr th:only-of-type {\n",
       "        vertical-align: middle;\n",
       "    }\n",
       "\n",
       "    .dataframe tbody tr th {\n",
       "        vertical-align: top;\n",
       "    }\n",
       "\n",
       "    .dataframe thead th {\n",
       "        text-align: right;\n",
       "    }\n",
       "</style>\n",
       "<table border=\"1\" class=\"dataframe\">\n",
       "  <thead>\n",
       "    <tr style=\"text-align: right;\">\n",
       "      <th></th>\n",
       "      <th>DooderCount</th>\n",
       "      <th>EnergyCount</th>\n",
       "      <th>DirectionCounts</th>\n",
       "    </tr>\n",
       "  </thead>\n",
       "  <tbody>\n",
       "    <tr>\n",
       "      <th>0</th>\n",
       "      <td>10</td>\n",
       "      <td>10</td>\n",
       "      <td>{'Origin': 10}</td>\n",
       "    </tr>\n",
       "    <tr>\n",
       "      <th>1</th>\n",
       "      <td>10</td>\n",
       "      <td>20</td>\n",
       "      <td>{'None': 10}</td>\n",
       "    </tr>\n",
       "    <tr>\n",
       "      <th>2</th>\n",
       "      <td>10</td>\n",
       "      <td>30</td>\n",
       "      <td>{'None': 8, 'N': 1, 'SE': 1}</td>\n",
       "    </tr>\n",
       "    <tr>\n",
       "      <th>3</th>\n",
       "      <td>10</td>\n",
       "      <td>37</td>\n",
       "      <td>{'N': 1, 'None': 9}</td>\n",
       "    </tr>\n",
       "    <tr>\n",
       "      <th>4</th>\n",
       "      <td>10</td>\n",
       "      <td>40</td>\n",
       "      <td>{'None': 8, 'NW': 1, 'SW': 1}</td>\n",
       "    </tr>\n",
       "    <tr>\n",
       "      <th>5</th>\n",
       "      <td>10</td>\n",
       "      <td>42</td>\n",
       "      <td>{'None': 6, 'N': 1, 'NW': 1, 'SE': 1, 'W': 1}</td>\n",
       "    </tr>\n",
       "    <tr>\n",
       "      <th>6</th>\n",
       "      <td>1</td>\n",
       "      <td>47</td>\n",
       "      <td>{'None': 1}</td>\n",
       "    </tr>\n",
       "    <tr>\n",
       "      <th>7</th>\n",
       "      <td>0</td>\n",
       "      <td>54</td>\n",
       "      <td>{}</td>\n",
       "    </tr>\n",
       "    <tr>\n",
       "      <th>8</th>\n",
       "      <td>0</td>\n",
       "      <td>52</td>\n",
       "      <td>{}</td>\n",
       "    </tr>\n",
       "    <tr>\n",
       "      <th>9</th>\n",
       "      <td>0</td>\n",
       "      <td>49</td>\n",
       "      <td>{}</td>\n",
       "    </tr>\n",
       "  </tbody>\n",
       "</table>\n",
       "</div>"
      ],
      "text/plain": [
       "   DooderCount  EnergyCount                                DirectionCounts\n",
       "0           10           10                                 {'Origin': 10}\n",
       "1           10           20                                   {'None': 10}\n",
       "2           10           30                   {'None': 8, 'N': 1, 'SE': 1}\n",
       "3           10           37                            {'N': 1, 'None': 9}\n",
       "4           10           40                  {'None': 8, 'NW': 1, 'SW': 1}\n",
       "5           10           42  {'None': 6, 'N': 1, 'NW': 1, 'SE': 1, 'W': 1}\n",
       "6            1           47                                    {'None': 1}\n",
       "7            0           54                                             {}\n",
       "8            0           52                                             {}\n",
       "9            0           49                                             {}"
      ]
     },
     "execution_count": 8,
     "metadata": {},
     "output_type": "execute_result"
    }
   ],
   "source": [
    "experiment.simulation.information.get_dataframe('Simulation').head(10)"
   ]
  },
  {
   "cell_type": "code",
   "execution_count": 14,
   "id": "47d945b8",
   "metadata": {
    "ExecuteTime": {
     "end_time": "2022-08-31T20:32:01.298077Z",
     "start_time": "2022-08-31T20:32:01.276070Z"
    }
   },
   "outputs": [
    {
     "data": {
      "text/plain": [
       "[]"
      ]
     },
     "execution_count": 14,
     "metadata": {},
     "output_type": "execute_result"
    }
   ],
   "source": [
    "experiment.simulation.environment.get_objects() # not pulling back default, works for specific"
   ]
  },
  {
   "cell_type": "code",
   "execution_count": 18,
   "id": "c107fcab",
   "metadata": {
    "ExecuteTime": {
     "end_time": "2022-08-31T20:33:03.102189Z",
     "start_time": "2022-08-31T20:33:03.078695Z"
    }
   },
   "outputs": [
    {
     "data": {
      "text/plain": [
       "0"
      ]
     },
     "execution_count": 18,
     "metadata": {},
     "output_type": "execute_result"
    }
   ],
   "source": [
    "len(experiment.simulation.environment.get_objects('Dooder'))"
   ]
  },
  {
   "cell_type": "code",
   "execution_count": 19,
   "id": "5847e2a4",
   "metadata": {
    "ExecuteTime": {
     "end_time": "2022-08-31T20:33:06.215457Z",
     "start_time": "2022-08-31T20:33:06.186836Z"
    },
    "scrolled": false
   },
   "outputs": [
    {
     "name": "stdout",
     "output_type": "stream",
     "text": [
      "{'timestamp': '2022-08-31 13:31:43,638', 'experiment_id':'in2aLpVunSepLeYUs3WYyw', 'scope': 'Dooder', 'id': 'GC54zzBBZfRKu65Cva5Xd6', 'cycle_number': 0, 'granularity': 1, 'message': 'Created'},\n",
      "\n",
      "{'timestamp': '2022-08-31 13:31:43,643', 'experiment_id':'in2aLpVunSepLeYUs3WYyw', 'scope': 'Dooder', 'id': 'kdcp6jCgTprhPUSL2cK4qw', 'cycle_number': 1, 'granularity': 2, 'message': 'Moved SE from (17, 23) to (18, 22)'},\n",
      "\n",
      "{'timestamp': '2022-08-31 13:31:43,643', 'experiment_id':'in2aLpVunSepLeYUs3WYyw', 'scope': 'Dooder', 'id': 'HPSmyJpgUDGAcCfCn9NGTT', 'cycle_number': 1, 'granularity': 2, 'message': 'Moved N from (12, 7) to (12, 8)'},\n",
      "\n",
      "{'timestamp': '2022-08-31 13:31:43,644', 'experiment_id':'in2aLpVunSepLeYUs3WYyw', 'scope': 'Dooder', 'id': 'gLYfzQynd7uLG3kSvBBUPP', 'cycle_number': 2, 'granularity': 2, 'message': 'Moved N from (27, 11) to (27, 12)'},\n",
      "\n",
      "{'timestamp': '2022-08-31 13:31:43,646', 'experiment_id':'in2aLpVunSepLeYUs3WYyw', 'scope': 'Dooder', 'id': 'HPSmyJpgUDGAcCfCn9NGTT', 'cycle_number': 3, 'granularity': 2, 'message': 'Moved NW from (12, 8) to (11, 9)'},\n",
      "\n",
      "{'timestamp': '2022-08-31 13:31:43,647', 'experiment_id':'in2aLpVunSepLeYUs3WYyw', 'scope': 'Dooder', 'id': 'mkGiqXT8AxED4U4RqnJxrY', 'cycle_number': 3, 'granularity': 2, 'message': 'Moved SW from (7, 25) to (6, 24)'},\n",
      "\n",
      "{'timestamp': '2022-08-31 13:31:43,649', 'experiment_id':'in2aLpVunSepLeYUs3WYyw', 'scope': 'Dooder', 'id': 'cYx4RrrxmcPZhpYY3w6PTp', 'cycle_number': 4, 'granularity': 2, 'message': 'Moved N from (17, 13) to (17, 13)'},\n",
      "\n",
      "{'timestamp': '2022-08-31 13:31:43,650', 'experiment_id':'in2aLpVunSepLeYUs3WYyw', 'scope': 'Dooder', 'id': 'mkGiqXT8AxED4U4RqnJxrY', 'cycle_number': 4, 'granularity': 2, 'message': 'Moved W from (6, 24) to (5, 24)'},\n",
      "\n",
      "{'timestamp': '2022-08-31 13:31:43,650', 'experiment_id':'in2aLpVunSepLeYUs3WYyw', 'scope': 'Dooder', 'id': 'kdcp6jCgTprhPUSL2cK4qw', 'cycle_number': 4, 'granularity': 2, 'message': 'Moved SE from (18, 22) to (19, 21)'},\n",
      "\n",
      "{'timestamp': '2022-08-31 13:31:43,650', 'experiment_id':'in2aLpVunSepLeYUs3WYyw', 'scope': 'Dooder', 'id': 'HPSmyJpgUDGAcCfCn9NGTT', 'cycle_number': 4, 'granularity': 2, 'message': 'Moved NW from (11, 9) to (10, 10)'},\n",
      "\n",
      "{'timestamp': '2022-08-31 13:31:43,652', 'experiment_id':'in2aLpVunSepLeYUs3WYyw', 'scope': 'Dooder', 'id': 'gbgmn6LXWVrycqYqrjcDMN', 'cycle_number': 5, 'granularity': 1, 'message': 'Died from lack of energy'},\n",
      "\n",
      "{'timestamp': '2022-08-31 13:31:43,652', 'experiment_id':'in2aLpVunSepLeYUs3WYyw', 'scope': 'Dooder', 'id': 'HPSmyJpgUDGAcCfCn9NGTT', 'cycle_number': 5, 'granularity': 1, 'message': 'Died from lack of energy'},\n",
      "\n",
      "{'timestamp': '2022-08-31 13:31:43,652', 'experiment_id':'in2aLpVunSepLeYUs3WYyw', 'scope': 'Dooder', 'id': 'jzSyEmAxZcrn5fznScZuQg', 'cycle_number': 5, 'granularity': 1, 'message': 'Died from lack of energy'},\n",
      "\n",
      "{'timestamp': '2022-08-31 13:31:43,652', 'experiment_id':'in2aLpVunSepLeYUs3WYyw', 'scope': 'Dooder', 'id': 'GC54zzBBZfRKu65Cva5Xd6', 'cycle_number': 5, 'granularity': 1, 'message': 'Died from lack of energy'},\n",
      "\n",
      "{'timestamp': '2022-08-31 13:31:43,652', 'experiment_id':'in2aLpVunSepLeYUs3WYyw', 'scope': 'Dooder', 'id': 'Ag2e6F8vPHAxdW5ndfs83n', 'cycle_number': 5, 'granularity': 1, 'message': 'Died from lack of energy'},\n",
      "\n",
      "{'timestamp': '2022-08-31 13:31:43,652', 'experiment_id':'in2aLpVunSepLeYUs3WYyw', 'scope': 'Dooder', 'id': 'beYqm587V2DuVnoK8GPDBH', 'cycle_number': 5, 'granularity': 1, 'message': 'Died from lack of energy'},\n",
      "\n",
      "{'timestamp': '2022-08-31 13:31:43,652', 'experiment_id':'in2aLpVunSepLeYUs3WYyw', 'scope': 'Dooder', 'id': 'mkGiqXT8AxED4U4RqnJxrY', 'cycle_number': 5, 'granularity': 1, 'message': 'Died from lack of energy'},\n",
      "\n",
      "{'timestamp': '2022-08-31 13:31:43,653', 'experiment_id':'in2aLpVunSepLeYUs3WYyw', 'scope': 'Dooder', 'id': 'cYx4RrrxmcPZhpYY3w6PTp', 'cycle_number': 5, 'granularity': 1, 'message': 'Died from lack of energy'},\n",
      "\n",
      "{'timestamp': '2022-08-31 13:31:43,653', 'experiment_id':'in2aLpVunSepLeYUs3WYyw', 'scope': 'Dooder', 'id': 'gLYfzQynd7uLG3kSvBBUPP', 'cycle_number': 5, 'granularity': 1, 'message': 'Died from lack of energy'},\n",
      "\n",
      "{'timestamp': '2022-08-31 13:31:43,653', 'experiment_id':'in2aLpVunSepLeYUs3WYyw', 'scope': 'Dooder', 'id': 'kdcp6jCgTprhPUSL2cK4qw', 'cycle_number': 6, 'granularity': 1, 'message': 'Died from lack of energy'},\n",
      "\n"
     ]
    }
   ],
   "source": [
    "experiment.get_log() # make the log file remove records at some point"
   ]
  },
  {
   "cell_type": "code",
   "execution_count": 32,
   "id": "6dfbc7d6",
   "metadata": {
    "ExecuteTime": {
     "end_time": "2022-08-31T20:34:10.250536Z",
     "start_time": "2022-08-31T20:34:10.222538Z"
    }
   },
   "outputs": [
    {
     "ename": "TypeError",
     "evalue": "get_object() missing 1 required positional argument: 'unique_id'",
     "output_type": "error",
     "traceback": [
      "\u001b[1;31m---------------------------------------------------------------------------\u001b[0m",
      "\u001b[1;31mTypeError\u001b[0m                                 Traceback (most recent call last)",
      "Input \u001b[1;32mIn [32]\u001b[0m, in \u001b[0;36m<cell line: 1>\u001b[1;34m()\u001b[0m\n\u001b[1;32m----> 1\u001b[0m d \u001b[38;5;241m=\u001b[39m \u001b[43mexperiment\u001b[49m\u001b[38;5;241;43m.\u001b[39;49m\u001b[43mget_object\u001b[49m\u001b[43m(\u001b[49m\u001b[38;5;124;43m'\u001b[39;49m\u001b[38;5;124;43mkdcp6jCgTprhPUSL2cK4qw\u001b[39;49m\u001b[38;5;124;43m'\u001b[39;49m\u001b[43m)\u001b[49m\n",
      "File \u001b[1;32m~\\Dropbox\\Dooders\\experiment.py:53\u001b[0m, in \u001b[0;36mExperiment.get_object\u001b[1;34m(self, object_id)\u001b[0m\n\u001b[0;32m     46\u001b[0m \u001b[38;5;28;01mdef\u001b[39;00m \u001b[38;5;21mget_object\u001b[39m(\u001b[38;5;28mself\u001b[39m, object_id: \u001b[38;5;28mstr\u001b[39m) \u001b[38;5;241m-\u001b[39m\u001b[38;5;241m>\u001b[39m BaseObject:  \u001b[38;5;66;03m# ! make this better\u001b[39;00m\n\u001b[0;32m     47\u001b[0m     \u001b[38;5;124;03m\"\"\" \u001b[39;00m\n\u001b[0;32m     48\u001b[0m \u001b[38;5;124;03m    Fetch an object by its id.\u001b[39;00m\n\u001b[0;32m     49\u001b[0m \n\u001b[0;32m     50\u001b[0m \u001b[38;5;124;03m    Args:\u001b[39;00m\n\u001b[0;32m     51\u001b[0m \u001b[38;5;124;03m        object_id: The id of the object. Based on a random short uuid assigned to every object at its creation.\u001b[39;00m\n\u001b[0;32m     52\u001b[0m \u001b[38;5;124;03m    \"\"\"\u001b[39;00m\n\u001b[1;32m---> 53\u001b[0m     \u001b[38;5;28;01mreturn\u001b[39;00m \u001b[38;5;28;43mself\u001b[39;49m\u001b[38;5;241;43m.\u001b[39;49m\u001b[43msimulation\u001b[49m\u001b[38;5;241;43m.\u001b[39;49m\u001b[43mtime\u001b[49m\u001b[38;5;241;43m.\u001b[39;49m\u001b[43mget_object\u001b[49m\u001b[43m(\u001b[49m\u001b[43mobject_id\u001b[49m\u001b[43m)\u001b[49m\n",
      "\u001b[1;31mTypeError\u001b[0m: get_object() missing 1 required positional argument: 'unique_id'"
     ]
    }
   ],
   "source": [
    "d = experiment.get_object('kdcp6jCgTprhPUSL2cK4qw')"
   ]
  },
  {
   "cell_type": "code",
   "execution_count": null,
   "id": "5713d79b",
   "metadata": {
    "ExecuteTime": {
     "end_time": "2022-08-31T20:28:12.431795Z",
     "start_time": "2022-08-31T20:28:12.416823Z"
    }
   },
   "outputs": [],
   "source": []
  },
  {
   "cell_type": "code",
   "execution_count": 23,
   "id": "970ae3bb",
   "metadata": {
    "ExecuteTime": {
     "end_time": "2022-08-31T20:33:42.734421Z",
     "start_time": "2022-08-31T20:33:42.715468Z"
    }
   },
   "outputs": [
    {
     "data": {
      "text/plain": [
       "0"
      ]
     },
     "execution_count": 23,
     "metadata": {},
     "output_type": "execute_result"
    }
   ],
   "source": [
    "experiment.simulation.information.collectors['Simulation']['DooderCount'](experiment.simulation)"
   ]
  },
  {
   "cell_type": "code",
   "execution_count": 24,
   "id": "068e9e32",
   "metadata": {
    "ExecuteTime": {
     "end_time": "2022-08-31T20:33:44.150047Z",
     "start_time": "2022-08-31T20:33:44.140016Z"
    }
   },
   "outputs": [
    {
     "data": {
      "text/plain": [
       "53"
      ]
     },
     "execution_count": 24,
     "metadata": {},
     "output_type": "execute_result"
    }
   ],
   "source": [
    "experiment.simulation.time.get_object_count('Energy')"
   ]
  },
  {
   "cell_type": "code",
   "execution_count": 25,
   "id": "e393dc6b",
   "metadata": {
    "ExecuteTime": {
     "end_time": "2022-08-31T20:33:44.947015Z",
     "start_time": "2022-08-31T20:33:44.926035Z"
    }
   },
   "outputs": [
    {
     "data": {
      "text/plain": [
       "defaultdict(dict,\n",
       "            {'Dooder': {},\n",
       "             'Energy': {'X5nFYSLzS3ziLTgKSH9pNn': <sdk.environment.energy.Energy at 0x16be49621f0>,\n",
       "              'NchRSpzEX82njEcsRAErQr': <sdk.environment.energy.Energy at 0x16be491ed00>,\n",
       "              'TxEG74tY2hSZmPHDAkEmWd': <sdk.environment.energy.Energy at 0x16be491ec40>,\n",
       "              '4Ckc5CwnsvmkQ8763ubN6a': <sdk.environment.energy.Energy at 0x16be4962700>,\n",
       "              'Mqp6JG9vKnieXHXPCttop9': <sdk.environment.energy.Energy at 0x16be4962a30>,\n",
       "              '2ypLdZ4bLwnVNn6BXvuvns': <sdk.environment.energy.Energy at 0x16be491eac0>,\n",
       "              'hyFMotNHB8NmQxAdKoFSeR': <sdk.environment.energy.Energy at 0x16be491eee0>,\n",
       "              'Tdb7UkcpFESuidAyxjtLrQ': <sdk.environment.energy.Energy at 0x16be491ec10>,\n",
       "              '4Qr9GtfQ9BXjNnQ5RdcD8N': <sdk.environment.energy.Energy at 0x16be491edf0>,\n",
       "              'aYfVSTTABcsbyXEDDKr6JK': <sdk.environment.energy.Energy at 0x16be491ef40>,\n",
       "              'MFXZx3UxWwu82F2xgXwZew': <sdk.environment.energy.Energy at 0x16be491ebe0>,\n",
       "              '5wubAyWNGra3XC6EZNjZfo': <sdk.environment.energy.Energy at 0x16be491eb80>,\n",
       "              'oMnMiy7xxRR82AS3HEurnE': <sdk.environment.energy.Energy at 0x16be491ed90>,\n",
       "              'Lgw5SoxvDrCbdfbPArB8Jm': <sdk.environment.energy.Energy at 0x16be491ee80>,\n",
       "              '4DmdN3YqtQbVBnBFhd6tKs': <sdk.environment.energy.Energy at 0x16be3af0580>,\n",
       "              'EQvZRrrCPAv6VXxK9xsDcE': <sdk.environment.energy.Energy at 0x16be491eca0>,\n",
       "              'YeZVUezDj6PvW26QANeXsc': <sdk.environment.energy.Energy at 0x16be4962340>,\n",
       "              'P5yhnPQdtNgGmcNYapVKxf': <sdk.environment.energy.Energy at 0x16be4962970>,\n",
       "              '3a6s5DM4sZGJZkeACSihCa': <sdk.environment.energy.Energy at 0x16be491ef70>,\n",
       "              '3CzKkRYs77sgHcyd6RjMKv': <sdk.environment.energy.Energy at 0x16be491ee20>,\n",
       "              'iP43HpyyLYQoFW36AKiLmH': <sdk.environment.energy.Energy at 0x16be491eb20>,\n",
       "              'oKkGHibRVijEDS8oYY8ZpM': <sdk.environment.energy.Energy at 0x16be4962730>,\n",
       "              'eqYUweTtbPdT5E28t6KzNz': <sdk.environment.energy.Energy at 0x16be49627c0>,\n",
       "              'WZav67uYFKBymHcFrZf52i': <sdk.environment.energy.Energy at 0x16be49629a0>,\n",
       "              'ephSabWTa2kwjXvjSYEyWg': <sdk.environment.energy.Energy at 0x16be4962490>,\n",
       "              'BJ5VwwbLjgyMDKiWWqimsz': <sdk.environment.energy.Energy at 0x16be4962850>,\n",
       "              '7yZdnQRW7mWnPU98mXxRqJ': <sdk.environment.energy.Energy at 0x16be491ed30>,\n",
       "              '46mQCRapVgqhETHroVmhmd': <sdk.environment.energy.Energy at 0x16be49624f0>,\n",
       "              'HHuSPjQchGbhJR5Z5KdeXt': <sdk.environment.energy.Energy at 0x16be4962370>,\n",
       "              'cLuY6PftXPSsLijdypSaT4': <sdk.environment.energy.Energy at 0x16be49621c0>,\n",
       "              '8WFKtYE7d8kB4JfB8cSQ3N': <sdk.environment.energy.Energy at 0x16be4962760>,\n",
       "              'iGbZMxXVSEx7T9VMKj8qtN': <sdk.environment.energy.Energy at 0x16be4962640>,\n",
       "              'KAzCqjgtfxNcb2mx6TCZXS': <sdk.environment.energy.Energy at 0x16be4962190>,\n",
       "              'e3n9VcTRzhVPYf5siq9AGf': <sdk.environment.energy.Energy at 0x16be4962040>,\n",
       "              'WejCHNPKzKGrgZmiESsspu': <sdk.environment.energy.Energy at 0x16be491e7c0>,\n",
       "              '2UvFsUtVFixLMVfNVBsafK': <sdk.environment.energy.Energy at 0x16be491edc0>,\n",
       "              'YdzTsqgSBehcDDUR3jajNi': <sdk.environment.energy.Energy at 0x16be491eeb0>,\n",
       "              '6HbCArVgALD8bALy8Qkhfj': <sdk.environment.energy.Energy at 0x16be491e820>,\n",
       "              'Mn3kcFCA6qurnYbZry5Mas': <sdk.environment.energy.Energy at 0x16be491efd0>,\n",
       "              'VnoDY26Z57Umdc9YwjNMnC': <sdk.environment.energy.Energy at 0x16be49628b0>,\n",
       "              'bUjWcJTiudEtX32LRPYdhb': <sdk.environment.energy.Energy at 0x16be49626d0>,\n",
       "              'kZtqUhTtz4i6p2rEEgAFZi': <sdk.environment.energy.Energy at 0x16be4962820>,\n",
       "              '6VDcncwGq5MaCqcrDb5Z22': <sdk.environment.energy.Energy at 0x16be4962070>,\n",
       "              'nS3shFkRaxaJFgD5ZbSL8C': <sdk.environment.energy.Energy at 0x16be491e8b0>,\n",
       "              'ZNK54gqBBtCBMyS2ig9sUH': <sdk.environment.energy.Energy at 0x16be491ecd0>,\n",
       "              'RAhJPvsFtMCZgtkBWwgBAo': <sdk.environment.energy.Energy at 0x16be491ed60>,\n",
       "              'niNmpNbzukLDebZ7Ky7g3J': <sdk.environment.energy.Energy at 0x16be4962a00>,\n",
       "              'N5Pp6hVUPefUDdbDA3azng': <sdk.environment.energy.Energy at 0x16be49629d0>,\n",
       "              'F4gEcRQ7TsWDuBBqpcKR8j': <sdk.environment.energy.Energy at 0x16be49624c0>,\n",
       "              'iW89h5E99ENKP36KbHjUbJ': <sdk.environment.energy.Energy at 0x16be4962220>,\n",
       "              'JRuhSg3gvvhhcRDBpSrVmv': <sdk.environment.energy.Energy at 0x16be49620a0>,\n",
       "              'YjfB3dgixnyAUu6mbvUYG2': <sdk.environment.energy.Energy at 0x16be4962790>,\n",
       "              'XJ53DLUUURHmu253rUS8Je': <sdk.environment.energy.Energy at 0x16be4962130>}})"
      ]
     },
     "execution_count": 25,
     "metadata": {},
     "output_type": "execute_result"
    }
   ],
   "source": [
    "experiment.simulation.time._objects"
   ]
  },
  {
   "cell_type": "code",
   "execution_count": 26,
   "id": "37ddbdbe",
   "metadata": {
    "ExecuteTime": {
     "end_time": "2022-08-31T20:33:48.510555Z",
     "start_time": "2022-08-31T20:33:48.497582Z"
    }
   },
   "outputs": [],
   "source": [
    "results = {}\n",
    "results['CycleCount'] = experiment.simulation.time.time\n",
    "\n",
    "for component, values in experiment.simulation.information.data.items():\n",
    "    for column, value in values.items():\n",
    "        results[column] = value[-1]"
   ]
  },
  {
   "cell_type": "code",
   "execution_count": 27,
   "id": "ed32c520",
   "metadata": {
    "ExecuteTime": {
     "end_time": "2022-08-31T20:33:49.087759Z",
     "start_time": "2022-08-31T20:33:49.079762Z"
    }
   },
   "outputs": [
    {
     "data": {
      "text/plain": [
       "{'CycleCount': 100, 'DooderCount': 0, 'EnergyCount': 53, 'DirectionCounts': {}}"
      ]
     },
     "execution_count": 27,
     "metadata": {},
     "output_type": "execute_result"
    }
   ],
   "source": [
    "results"
   ]
  },
  {
   "cell_type": "code",
   "execution_count": 28,
   "id": "a6b89d69",
   "metadata": {
    "ExecuteTime": {
     "end_time": "2022-08-31T20:33:50.648051Z",
     "start_time": "2022-08-31T20:33:50.638051Z"
    }
   },
   "outputs": [],
   "source": [
    "dooders = experiment.simulation.time.get_objects('Dooder')\n",
    "    \n",
    "from collections import Counter\n",
    "direction_list = [dooder.direction for dooder in dooders]\n",
    "direction_counts = Counter(direction_list)"
   ]
  },
  {
   "cell_type": "code",
   "execution_count": 29,
   "id": "589b6d14",
   "metadata": {
    "ExecuteTime": {
     "end_time": "2022-08-31T20:33:51.051936Z",
     "start_time": "2022-08-31T20:33:51.035746Z"
    }
   },
   "outputs": [
    {
     "data": {
      "text/plain": [
       "[]"
      ]
     },
     "execution_count": 29,
     "metadata": {},
     "output_type": "execute_result"
    }
   ],
   "source": [
    "direction_list"
   ]
  },
  {
   "cell_type": "code",
   "execution_count": 30,
   "id": "72bbd84d",
   "metadata": {
    "ExecuteTime": {
     "end_time": "2022-08-31T20:33:51.661517Z",
     "start_time": "2022-08-31T20:33:51.644517Z"
    }
   },
   "outputs": [
    {
     "data": {
      "text/plain": [
       "{}"
      ]
     },
     "execution_count": 30,
     "metadata": {},
     "output_type": "execute_result"
    }
   ],
   "source": [
    "dict(direction_counts)"
   ]
  },
  {
   "cell_type": "code",
   "execution_count": null,
   "id": "fcda4402",
   "metadata": {},
   "outputs": [],
   "source": []
  }
 ],
 "metadata": {
  "kernelspec": {
   "display_name": "Python 3 (ipykernel)",
   "language": "python",
   "name": "python3"
  },
  "language_info": {
   "codemirror_mode": {
    "name": "ipython",
    "version": 3
   },
   "file_extension": ".py",
   "mimetype": "text/x-python",
   "name": "python",
   "nbconvert_exporter": "python",
   "pygments_lexer": "ipython3",
   "version": "3.9.12"
  },
  "toc": {
   "base_numbering": 1,
   "nav_menu": {},
   "number_sections": true,
   "sideBar": true,
   "skip_h1_title": false,
   "title_cell": "Table of Contents",
   "title_sidebar": "Contents",
   "toc_cell": false,
   "toc_position": {},
   "toc_section_display": true,
   "toc_window_display": false
  }
 },
 "nbformat": 4,
 "nbformat_minor": 5
}
