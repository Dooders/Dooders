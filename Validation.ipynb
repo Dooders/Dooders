{
 "cells": [
  {
   "cell_type": "code",
   "execution_count": 1,
   "id": "727c0c36",
   "metadata": {
    "ExecuteTime": {
     "end_time": "2022-09-01T03:51:03.587315Z",
     "start_time": "2022-09-01T03:51:02.713126Z"
    }
   },
   "outputs": [],
   "source": [
    "from experiment import Experiment\n",
    "\n",
    "from sdk.dooder import Dooder\n",
    "from sdk.environment.energy import Energy\n",
    "from sdk.config import ExperimentParameters"
   ]
  },
  {
   "cell_type": "code",
   "execution_count": 2,
   "id": "36a398c4",
   "metadata": {
    "ExecuteTime": {
     "end_time": "2022-09-01T03:51:03.603287Z",
     "start_time": "2022-09-01T03:51:03.592273Z"
    }
   },
   "outputs": [],
   "source": [
    "# override parameters, get object fix, get random object, stop conditions"
   ]
  },
  {
   "cell_type": "code",
   "execution_count": 3,
   "id": "b9b8ae91",
   "metadata": {
    "ExecuteTime": {
     "end_time": "2022-09-01T03:51:03.618275Z",
     "start_time": "2022-09-01T03:51:03.604263Z"
    }
   },
   "outputs": [],
   "source": [
    "with open(\"sdk/config.json\", \"r\") as f:\n",
    "     config = json.load(f)"
   ]
  },
  {
   "cell_type": "code",
   "execution_count": 4,
   "id": "f2cb532f",
   "metadata": {
    "ExecuteTime": {
     "end_time": "2022-09-01T03:51:03.634318Z",
     "start_time": "2022-09-01T03:51:03.621273Z"
    }
   },
   "outputs": [],
   "source": [
    "# DEFAULT_PARAMETERS = {\n",
    "#     'width':20,\n",
    "#     'height':20,\n",
    "#     'agents':10,\n",
    "#     'verbose':True,\n",
    "#     'verbosity':1,\n",
    "#     'steps':10,\n",
    "#     'granularity':2, # make so this goes through\n",
    "#     'initial_energy_value': 1,\n",
    "#     'initial_energy_count': 20,\n",
    "#     'max_energy_life_span': 5\n",
    "# }\n",
    "experiment = Experiment(config)"
   ]
  },
  {
   "cell_type": "code",
   "execution_count": 5,
   "id": "d1b16ca6",
   "metadata": {
    "ExecuteTime": {
     "end_time": "2022-09-01T03:51:03.650293Z",
     "start_time": "2022-09-01T03:51:03.635264Z"
    },
    "scrolled": false
   },
   "outputs": [],
   "source": [
    "# experiment.simulation.step()\n",
    "# experiment.simulation.run_simulation()\n",
    "experiment.simulation.setup()\n",
    "experiment.simulation.cycle()\n",
    "# for i in range(10):\n",
    "#     experiment.simulation.cycle()"
   ]
  },
  {
   "cell_type": "code",
   "execution_count": 6,
   "id": "6010846f",
   "metadata": {
    "ExecuteTime": {
     "end_time": "2022-09-01T03:51:03.665295Z",
     "start_time": "2022-09-01T03:51:03.651263Z"
    }
   },
   "outputs": [],
   "source": [
    "results = experiment.simulation.get_results()"
   ]
  },
  {
   "cell_type": "code",
   "execution_count": 7,
   "id": "17dad1b4",
   "metadata": {
    "ExecuteTime": {
     "end_time": "2022-09-01T03:51:03.696248Z",
     "start_time": "2022-09-01T03:51:03.672247Z"
    }
   },
   "outputs": [
    {
     "data": {
      "text/plain": [
       "{'CycleCount': 1,\n",
       " 'DooderCount': 10,\n",
       " 'EnergyCount': 20,\n",
       " 'DirectionCounts': {'None': 10}}"
      ]
     },
     "execution_count": 7,
     "metadata": {},
     "output_type": "execute_result"
    }
   ],
   "source": [
    "results"
   ]
  },
  {
   "cell_type": "code",
   "execution_count": 8,
   "id": "cbc7b258",
   "metadata": {
    "ExecuteTime": {
     "end_time": "2022-09-01T03:51:03.712293Z",
     "start_time": "2022-09-01T03:51:03.697235Z"
    }
   },
   "outputs": [
    {
     "data": {
      "text/html": [
       "<div>\n",
       "<style scoped>\n",
       "    .dataframe tbody tr th:only-of-type {\n",
       "        vertical-align: middle;\n",
       "    }\n",
       "\n",
       "    .dataframe tbody tr th {\n",
       "        vertical-align: top;\n",
       "    }\n",
       "\n",
       "    .dataframe thead th {\n",
       "        text-align: right;\n",
       "    }\n",
       "</style>\n",
       "<table border=\"1\" class=\"dataframe\">\n",
       "  <thead>\n",
       "    <tr style=\"text-align: right;\">\n",
       "      <th></th>\n",
       "      <th>DooderCount</th>\n",
       "      <th>EnergyCount</th>\n",
       "      <th>DirectionCounts</th>\n",
       "    </tr>\n",
       "  </thead>\n",
       "  <tbody>\n",
       "    <tr>\n",
       "      <th>0</th>\n",
       "      <td>10</td>\n",
       "      <td>10</td>\n",
       "      <td>{'Origin': 10}</td>\n",
       "    </tr>\n",
       "    <tr>\n",
       "      <th>1</th>\n",
       "      <td>10</td>\n",
       "      <td>20</td>\n",
       "      <td>{'None': 10}</td>\n",
       "    </tr>\n",
       "  </tbody>\n",
       "</table>\n",
       "</div>"
      ],
      "text/plain": [
       "   DooderCount  EnergyCount DirectionCounts\n",
       "0           10           10  {'Origin': 10}\n",
       "1           10           20    {'None': 10}"
      ]
     },
     "execution_count": 8,
     "metadata": {},
     "output_type": "execute_result"
    }
   ],
   "source": [
    "experiment.simulation.information.get_dataframe('Simulation').head(10)"
   ]
  },
  {
   "cell_type": "code",
   "execution_count": 9,
   "id": "47d945b8",
   "metadata": {
    "ExecuteTime": {
     "end_time": "2022-09-01T03:51:03.728295Z",
     "start_time": "2022-09-01T03:51:03.719260Z"
    }
   },
   "outputs": [
    {
     "data": {
      "text/plain": [
       "[<sdk.dooder.dooder.Dooder at 0x19bf3ce7148>,\n",
       " <sdk.dooder.dooder.Dooder at 0x19bf3ce4748>,\n",
       " <sdk.dooder.dooder.Dooder at 0x19bf3ce7448>,\n",
       " <sdk.dooder.dooder.Dooder at 0x19bf3ce4f88>,\n",
       " <sdk.dooder.dooder.Dooder at 0x19bf3ce4e08>,\n",
       " <sdk.dooder.dooder.Dooder at 0x19bf3ce49c8>,\n",
       " <sdk.dooder.dooder.Dooder at 0x19bf303a848>,\n",
       " <sdk.dooder.dooder.Dooder at 0x19bf3ce7848>,\n",
       " <sdk.dooder.dooder.Dooder at 0x19bf3ce75c8>,\n",
       " <sdk.dooder.dooder.Dooder at 0x19bf3ce72c8>]"
      ]
     },
     "execution_count": 9,
     "metadata": {},
     "output_type": "execute_result"
    }
   ],
   "source": [
    "experiment.get_objects('Dooder')"
   ]
  },
  {
   "cell_type": "code",
   "execution_count": 10,
   "id": "c107fcab",
   "metadata": {
    "ExecuteTime": {
     "end_time": "2022-09-01T03:51:03.743310Z",
     "start_time": "2022-09-01T03:51:03.729269Z"
    }
   },
   "outputs": [
    {
     "data": {
      "text/plain": [
       "20"
      ]
     },
     "execution_count": 10,
     "metadata": {},
     "output_type": "execute_result"
    }
   ],
   "source": [
    "len(experiment.get_objects('Energy'))"
   ]
  },
  {
   "cell_type": "code",
   "execution_count": 11,
   "id": "5847e2a4",
   "metadata": {
    "ExecuteTime": {
     "end_time": "2022-09-01T03:51:03.775287Z",
     "start_time": "2022-09-01T03:51:03.747277Z"
    },
    "scrolled": false
   },
   "outputs": [
    {
     "name": "stdout",
     "output_type": "stream",
     "text": [
      "{'timestamp': '2022-08-31 20:51:03,637', 'experiment_id':'oPvTj63fFRMwuS7YMUXw3m', 'scope': 'Dooder', 'id': 'BReaQBrDYTwGoma8rJmvqu', 'cycle_number': 0, 'granularity': 1, 'message': 'Created'},\n",
      "\n",
      "{'timestamp': '2022-08-31 20:51:03,637', 'experiment_id':'oPvTj63fFRMwuS7YMUXw3m', 'scope': 'Dooder', 'id': 'AfXm9NFcWN5GcR4Px9tFsJ', 'cycle_number': 0, 'granularity': 1, 'message': 'Created'},\n",
      "\n",
      "{'timestamp': '2022-08-31 20:51:03,637', 'experiment_id':'oPvTj63fFRMwuS7YMUXw3m', 'scope': 'Dooder', 'id': 'dnFYqHuyrwJGhW9u3HSUTH', 'cycle_number': 0, 'granularity': 1, 'message': 'Created'},\n",
      "\n",
      "{'timestamp': '2022-08-31 20:51:03,637', 'experiment_id':'oPvTj63fFRMwuS7YMUXw3m', 'scope': 'Dooder', 'id': '4CS42ERM4CzP2TpqTX9K87', 'cycle_number': 0, 'granularity': 1, 'message': 'Created'},\n",
      "\n",
      "{'timestamp': '2022-08-31 20:51:03,637', 'experiment_id':'oPvTj63fFRMwuS7YMUXw3m', 'scope': 'Dooder', 'id': '9jeatZZX4kAXUte4JdWGvw', 'cycle_number': 0, 'granularity': 1, 'message': 'Created'},\n",
      "\n",
      "{'timestamp': '2022-08-31 20:51:03,637', 'experiment_id':'oPvTj63fFRMwuS7YMUXw3m', 'scope': 'Dooder', 'id': 'TeJi9wABGvohqphuWorokk', 'cycle_number': 0, 'granularity': 1, 'message': 'Created'},\n",
      "\n",
      "{'timestamp': '2022-08-31 20:51:03,638', 'experiment_id':'oPvTj63fFRMwuS7YMUXw3m', 'scope': 'Dooder', 'id': 'nY2pfSLfSCFmm9dhHu5aed', 'cycle_number': 0, 'granularity': 1, 'message': 'Created'},\n",
      "\n",
      "{'timestamp': '2022-08-31 20:51:03,638', 'experiment_id':'oPvTj63fFRMwuS7YMUXw3m', 'scope': 'Dooder', 'id': 'HJ55g6xKscQU5574kqnLFG', 'cycle_number': 0, 'granularity': 1, 'message': 'Created'},\n",
      "\n",
      "{'timestamp': '2022-08-31 20:51:03,638', 'experiment_id':'oPvTj63fFRMwuS7YMUXw3m', 'scope': 'Dooder', 'id': 'RJV3xVCnaDMwg7aKCYAuVs', 'cycle_number': 0, 'granularity': 1, 'message': 'Created'},\n",
      "\n",
      "{'timestamp': '2022-08-31 20:51:03,638', 'experiment_id':'oPvTj63fFRMwuS7YMUXw3m', 'scope': 'Dooder', 'id': '4DdYgYD7QuHcTRukTGTphG', 'cycle_number': 0, 'granularity': 1, 'message': 'Created'},\n",
      "\n"
     ]
    }
   ],
   "source": [
    "experiment.get_log() # make the log file remove records at some point"
   ]
  },
  {
   "cell_type": "code",
   "execution_count": 12,
   "id": "6dfbc7d6",
   "metadata": {
    "ExecuteTime": {
     "end_time": "2022-09-01T03:51:03.791310Z",
     "start_time": "2022-09-01T03:51:03.776260Z"
    }
   },
   "outputs": [
    {
     "data": {
      "text/plain": [
       "'No object found'"
      ]
     },
     "execution_count": 12,
     "metadata": {},
     "output_type": "execute_result"
    }
   ],
   "source": [
    "experiment.get_object('MA4fbqRzRrHq5LeE5EdKAX')"
   ]
  },
  {
   "cell_type": "code",
   "execution_count": 13,
   "id": "970ae3bb",
   "metadata": {
    "ExecuteTime": {
     "end_time": "2022-09-01T03:51:03.822263Z",
     "start_time": "2022-09-01T03:51:03.796288Z"
    }
   },
   "outputs": [
    {
     "data": {
      "text/plain": [
       "10"
      ]
     },
     "execution_count": 13,
     "metadata": {},
     "output_type": "execute_result"
    }
   ],
   "source": [
    "experiment.simulation.information.collectors['Simulation']['DooderCount'](experiment.simulation)"
   ]
  },
  {
   "cell_type": "code",
   "execution_count": 14,
   "id": "068e9e32",
   "metadata": {
    "ExecuteTime": {
     "end_time": "2022-09-01T03:51:03.837236Z",
     "start_time": "2022-09-01T03:51:03.823241Z"
    }
   },
   "outputs": [
    {
     "data": {
      "text/plain": [
       "20"
      ]
     },
     "execution_count": 14,
     "metadata": {},
     "output_type": "execute_result"
    }
   ],
   "source": [
    "experiment.simulation.time.get_object_count('Energy')"
   ]
  },
  {
   "cell_type": "code",
   "execution_count": 15,
   "id": "e393dc6b",
   "metadata": {
    "ExecuteTime": {
     "end_time": "2022-09-01T03:51:03.852273Z",
     "start_time": "2022-09-01T03:51:03.838265Z"
    }
   },
   "outputs": [
    {
     "data": {
      "text/plain": [
       "defaultdict(dict,\n",
       "            {'Dooder': {'BReaQBrDYTwGoma8rJmvqu': <sdk.dooder.dooder.Dooder at 0x19bf3ce4748>,\n",
       "              'AfXm9NFcWN5GcR4Px9tFsJ': <sdk.dooder.dooder.Dooder at 0x19bf303a848>,\n",
       "              'dnFYqHuyrwJGhW9u3HSUTH': <sdk.dooder.dooder.Dooder at 0x19bf3ce4e08>,\n",
       "              '4CS42ERM4CzP2TpqTX9K87': <sdk.dooder.dooder.Dooder at 0x19bf3ce4f88>,\n",
       "              '9jeatZZX4kAXUte4JdWGvw': <sdk.dooder.dooder.Dooder at 0x19bf3ce7148>,\n",
       "              'TeJi9wABGvohqphuWorokk': <sdk.dooder.dooder.Dooder at 0x19bf3ce72c8>,\n",
       "              'nY2pfSLfSCFmm9dhHu5aed': <sdk.dooder.dooder.Dooder at 0x19bf3ce7448>,\n",
       "              'HJ55g6xKscQU5574kqnLFG': <sdk.dooder.dooder.Dooder at 0x19bf3ce75c8>,\n",
       "              'RJV3xVCnaDMwg7aKCYAuVs': <sdk.dooder.dooder.Dooder at 0x19bf3ce49c8>,\n",
       "              '4DdYgYD7QuHcTRukTGTphG': <sdk.dooder.dooder.Dooder at 0x19bf3ce7848>},\n",
       "             'Energy': {'HQYvPJqzKnG5bei6iHoAZs': <sdk.environment.energy.Energy at 0x19bf3ce79c8>,\n",
       "              'HnqbzzjrF6ns6Qjg9JAd56': <sdk.environment.energy.Energy at 0x19bf3ce7988>,\n",
       "              'ZBvxCDT6SVC3mvsXyxY64e': <sdk.environment.energy.Energy at 0x19bf3ce7a08>,\n",
       "              'KPvkzjzS4FMztdpYXyhYPw': <sdk.environment.energy.Energy at 0x19bf3ce7a48>,\n",
       "              'fXpQVMRuiAEnwkUtBy4jB8': <sdk.environment.energy.Energy at 0x19bf3ce7a88>,\n",
       "              '2EBfauK8BQY9zGtWZ3nn4z': <sdk.environment.energy.Energy at 0x19bf3ce7ac8>,\n",
       "              'JpbdFNQbAtLWGxfmuSTgpt': <sdk.environment.energy.Energy at 0x19bf3ce7b08>,\n",
       "              'ao47FR3qwQpLGdRTUfuFQp': <sdk.environment.energy.Energy at 0x19bf3ce7b48>,\n",
       "              'J7LN2KyDgV6KWkLpyayEJm': <sdk.environment.energy.Energy at 0x19bf3ce7b88>,\n",
       "              'gcwPBeWtEiA5tV5NvyFo2W': <sdk.environment.energy.Energy at 0x19bf3ce7bc8>,\n",
       "              'Ppw4AdatF65iPpTtj6yUAU': <sdk.environment.energy.Energy at 0x19bf3ce7e48>,\n",
       "              'PnTsZz3d5gCQi3SDxkQg4y': <sdk.environment.energy.Energy at 0x19bf3ce7e88>,\n",
       "              'nBAj4y23B7LvQ9vRkJ5Qht': <sdk.environment.energy.Energy at 0x19bf3ce7ec8>,\n",
       "              'C4PMDKaeke6NCw577TLhAq': <sdk.environment.energy.Energy at 0x19bf3ce7f08>,\n",
       "              'ewvC9k3nH3sDSg3SvpX9NH': <sdk.environment.energy.Energy at 0x19bf3ce7f48>,\n",
       "              'ZchNQ3E2xAubwvdpKnThC4': <sdk.environment.energy.Energy at 0x19bf3ce7f88>,\n",
       "              '3qZxxFtzQJtAyuGcKGvd9u': <sdk.environment.energy.Energy at 0x19bf3ce7fc8>,\n",
       "              '5UsbXjK8SX4QhjogpXorhw': <sdk.environment.energy.Energy at 0x19bf3ce7e08>,\n",
       "              '8PpssTQnr4HY3QGG2HdV28': <sdk.environment.energy.Energy at 0x19bf3cee088>,\n",
       "              'AKon6CsoawqBCZDZCAeiM7': <sdk.environment.energy.Energy at 0x19bf3cee0c8>}})"
      ]
     },
     "execution_count": 15,
     "metadata": {},
     "output_type": "execute_result"
    }
   ],
   "source": [
    "experiment.simulation.time._objects"
   ]
  },
  {
   "cell_type": "code",
   "execution_count": 16,
   "id": "37ddbdbe",
   "metadata": {
    "ExecuteTime": {
     "end_time": "2022-09-01T03:51:03.868295Z",
     "start_time": "2022-09-01T03:51:03.853235Z"
    }
   },
   "outputs": [],
   "source": [
    "results = {}\n",
    "results['CycleCount'] = experiment.simulation.time.time\n",
    "\n",
    "for component, values in experiment.simulation.information.data.items():\n",
    "    for column, value in values.items():\n",
    "        results[column] = value[-1]"
   ]
  },
  {
   "cell_type": "code",
   "execution_count": 17,
   "id": "ed32c520",
   "metadata": {
    "ExecuteTime": {
     "end_time": "2022-09-01T03:51:03.884263Z",
     "start_time": "2022-09-01T03:51:03.869265Z"
    }
   },
   "outputs": [
    {
     "data": {
      "text/plain": [
       "{'CycleCount': 1,\n",
       " 'DooderCount': 10,\n",
       " 'EnergyCount': 20,\n",
       " 'DirectionCounts': {'None': 10}}"
      ]
     },
     "execution_count": 17,
     "metadata": {},
     "output_type": "execute_result"
    }
   ],
   "source": [
    "results"
   ]
  },
  {
   "cell_type": "code",
   "execution_count": 18,
   "id": "a6b89d69",
   "metadata": {
    "ExecuteTime": {
     "end_time": "2022-09-01T03:51:03.899294Z",
     "start_time": "2022-09-01T03:51:03.885263Z"
    }
   },
   "outputs": [],
   "source": [
    "dooders = experiment.simulation.time.get_objects('Dooder')\n",
    "    \n",
    "from collections import Counter\n",
    "direction_list = [dooder.direction for dooder in dooders]\n",
    "direction_counts = Counter(direction_list)"
   ]
  },
  {
   "cell_type": "code",
   "execution_count": 19,
   "id": "589b6d14",
   "metadata": {
    "ExecuteTime": {
     "end_time": "2022-09-01T03:51:03.915260Z",
     "start_time": "2022-09-01T03:51:03.904282Z"
    }
   },
   "outputs": [
    {
     "data": {
      "text/plain": [
       "['None',\n",
       " 'None',\n",
       " 'None',\n",
       " 'None',\n",
       " 'None',\n",
       " 'None',\n",
       " 'None',\n",
       " 'None',\n",
       " 'None',\n",
       " 'None']"
      ]
     },
     "execution_count": 19,
     "metadata": {},
     "output_type": "execute_result"
    }
   ],
   "source": [
    "direction_list"
   ]
  },
  {
   "cell_type": "code",
   "execution_count": 20,
   "id": "72bbd84d",
   "metadata": {
    "ExecuteTime": {
     "end_time": "2022-09-01T03:51:03.930268Z",
     "start_time": "2022-09-01T03:51:03.917240Z"
    }
   },
   "outputs": [
    {
     "data": {
      "text/plain": [
       "{'None': 10}"
      ]
     },
     "execution_count": 20,
     "metadata": {},
     "output_type": "execute_result"
    }
   ],
   "source": [
    "dict(direction_counts)"
   ]
  },
  {
   "cell_type": "code",
   "execution_count": null,
   "id": "17d6e9f8",
   "metadata": {},
   "outputs": [],
   "source": []
  },
  {
   "cell_type": "code",
   "execution_count": 21,
   "id": "affe5a15",
   "metadata": {
    "ExecuteTime": {
     "end_time": "2022-09-01T03:51:03.946278Z",
     "start_time": "2022-09-01T03:51:03.931253Z"
    }
   },
   "outputs": [
    {
     "data": {
      "text/plain": [
       "[(2, 2)]"
      ]
     },
     "execution_count": 21,
     "metadata": {},
     "output_type": "execute_result"
    }
   ],
   "source": [
    "experiment.simulation.environment.get_random_neighborhoods((1,1))"
   ]
  },
  {
   "cell_type": "code",
   "execution_count": 22,
   "id": "68d97db7",
   "metadata": {
    "ExecuteTime": {
     "end_time": "2022-09-01T03:51:03.962264Z",
     "start_time": "2022-09-01T03:51:03.949273Z"
    }
   },
   "outputs": [
    {
     "data": {
      "text/plain": [
       "'No objects found'"
      ]
     },
     "execution_count": 22,
     "metadata": {},
     "output_type": "execute_result"
    }
   ],
   "source": [
    "objectt = experiment.get_random_objects()\n",
    "\n",
    "experiment.simulation.environment.get_random_neighbors(objectt)"
   ]
  },
  {
   "cell_type": "code",
   "execution_count": 23,
   "id": "9ffdb84f",
   "metadata": {
    "ExecuteTime": {
     "end_time": "2022-09-01T03:51:03.977288Z",
     "start_time": "2022-09-01T03:51:03.963235Z"
    }
   },
   "outputs": [
    {
     "data": {
      "text/plain": [
       "(1, 20)"
      ]
     },
     "execution_count": 23,
     "metadata": {},
     "output_type": "execute_result"
    }
   ],
   "source": [
    "objectt[0].position"
   ]
  },
  {
   "cell_type": "code",
   "execution_count": null,
   "id": "b744cd1b",
   "metadata": {},
   "outputs": [],
   "source": []
  },
  {
   "cell_type": "code",
   "execution_count": null,
   "id": "6053715d",
   "metadata": {},
   "outputs": [],
   "source": []
  },
  {
   "cell_type": "code",
   "execution_count": null,
   "id": "557939a1",
   "metadata": {},
   "outputs": [],
   "source": []
  },
  {
   "cell_type": "code",
   "execution_count": null,
   "id": "b2bf1926",
   "metadata": {},
   "outputs": [],
   "source": []
  },
  {
   "cell_type": "code",
   "execution_count": null,
   "id": "29d7f82f",
   "metadata": {},
   "outputs": [],
   "source": []
  },
  {
   "cell_type": "code",
   "execution_count": null,
   "id": "a2389415",
   "metadata": {},
   "outputs": [],
   "source": []
  },
  {
   "cell_type": "code",
   "execution_count": null,
   "id": "67232cef",
   "metadata": {},
   "outputs": [],
   "source": []
  },
  {
   "cell_type": "code",
   "execution_count": null,
   "id": "a0e5e123",
   "metadata": {},
   "outputs": [],
   "source": []
  },
  {
   "cell_type": "code",
   "execution_count": null,
   "id": "5ced92b2",
   "metadata": {},
   "outputs": [],
   "source": []
  },
  {
   "cell_type": "code",
   "execution_count": null,
   "id": "231f166e",
   "metadata": {},
   "outputs": [],
   "source": []
  },
  {
   "cell_type": "code",
   "execution_count": null,
   "id": "59d7402c",
   "metadata": {},
   "outputs": [],
   "source": []
  }
 ],
 "metadata": {
  "kernelspec": {
   "display_name": "Python 3",
   "language": "python",
   "name": "python3"
  },
  "language_info": {
   "codemirror_mode": {
    "name": "ipython",
    "version": 3
   },
   "file_extension": ".py",
   "mimetype": "text/x-python",
   "name": "python",
   "nbconvert_exporter": "python",
   "pygments_lexer": "ipython3",
   "version": "3.7.13"
  },
  "toc": {
   "base_numbering": 1,
   "nav_menu": {},
   "number_sections": true,
   "sideBar": true,
   "skip_h1_title": false,
   "title_cell": "Table of Contents",
   "title_sidebar": "Contents",
   "toc_cell": false,
   "toc_position": {},
   "toc_section_display": true,
   "toc_window_display": false
  }
 },
 "nbformat": 4,
 "nbformat_minor": 5
}
