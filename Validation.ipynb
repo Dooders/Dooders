{
 "cells": [
  {
   "cell_type": "code",
   "execution_count": 1,
   "id": "727c0c36",
   "metadata": {
    "ExecuteTime": {
     "end_time": "2022-08-11T01:23:54.551386Z",
     "start_time": "2022-08-11T01:23:53.789569Z"
    }
   },
   "outputs": [],
   "source": [
    "from experiment import Experiment\n",
    "from dooders.parameters import ExperimentParameters"
   ]
  },
  {
   "cell_type": "code",
   "execution_count": 2,
   "id": "f2cb532f",
   "metadata": {
    "ExecuteTime": {
     "end_time": "2022-08-11T01:23:54.567258Z",
     "start_time": "2022-08-11T01:23:54.552260Z"
    }
   },
   "outputs": [],
   "source": [
    "DEFAULT_PARAMETERS = ExperimentParameters(\n",
    "    width=20,\n",
    "    height=20,\n",
    "    agents=1,\n",
    "    verbose=True,\n",
    "    verbosity=2,\n",
    "    steps=100,\n",
    "    initial_energy_value = 1,\n",
    "    initial_energy_count = 10\n",
    ")\n",
    "experiment = Experiment(DEFAULT_PARAMETERS)"
   ]
  },
  {
   "cell_type": "code",
   "execution_count": 3,
   "id": "d1b16ca6",
   "metadata": {
    "ExecuteTime": {
     "end_time": "2022-08-11T01:23:54.583275Z",
     "start_time": "2022-08-11T01:23:54.568259Z"
    }
   },
   "outputs": [],
   "source": [
    "# experiment.simulation.step()\n",
    "for i in range(10):\n",
    "    experiment.simulation.step()"
   ]
  },
  {
   "cell_type": "code",
   "execution_count": 4,
   "id": "6010846f",
   "metadata": {
    "ExecuteTime": {
     "end_time": "2022-08-11T01:23:54.598693Z",
     "start_time": "2022-08-11T01:23:54.584267Z"
    }
   },
   "outputs": [],
   "source": [
    "results = experiment.simulation.get_results()"
   ]
  },
  {
   "cell_type": "code",
   "execution_count": 5,
   "id": "17dad1b4",
   "metadata": {
    "ExecuteTime": {
     "end_time": "2022-08-11T01:23:54.614270Z",
     "start_time": "2022-08-11T01:23:54.599695Z"
    }
   },
   "outputs": [
    {
     "data": {
      "text/plain": [
       "{}"
      ]
     },
     "execution_count": 5,
     "metadata": {},
     "output_type": "execute_result"
    }
   ],
   "source": [
    "results"
   ]
  },
  {
   "cell_type": "code",
   "execution_count": 6,
   "id": "cbc7b258",
   "metadata": {
    "ExecuteTime": {
     "end_time": "2022-08-11T01:23:54.629414Z",
     "start_time": "2022-08-11T01:23:54.615271Z"
    }
   },
   "outputs": [
    {
     "data": {
      "text/html": [
       "<div>\n",
       "<style scoped>\n",
       "    .dataframe tbody tr th:only-of-type {\n",
       "        vertical-align: middle;\n",
       "    }\n",
       "\n",
       "    .dataframe tbody tr th {\n",
       "        vertical-align: top;\n",
       "    }\n",
       "\n",
       "    .dataframe thead th {\n",
       "        text-align: right;\n",
       "    }\n",
       "</style>\n",
       "<table border=\"1\" class=\"dataframe\">\n",
       "  <thead>\n",
       "    <tr style=\"text-align: right;\">\n",
       "      <th></th>\n",
       "      <th>AgentCount</th>\n",
       "    </tr>\n",
       "  </thead>\n",
       "  <tbody>\n",
       "    <tr>\n",
       "      <th>0</th>\n",
       "      <td>1</td>\n",
       "    </tr>\n",
       "    <tr>\n",
       "      <th>1</th>\n",
       "      <td>1</td>\n",
       "    </tr>\n",
       "    <tr>\n",
       "      <th>2</th>\n",
       "      <td>1</td>\n",
       "    </tr>\n",
       "    <tr>\n",
       "      <th>3</th>\n",
       "      <td>1</td>\n",
       "    </tr>\n",
       "    <tr>\n",
       "      <th>4</th>\n",
       "      <td>1</td>\n",
       "    </tr>\n",
       "    <tr>\n",
       "      <th>5</th>\n",
       "      <td>1</td>\n",
       "    </tr>\n",
       "    <tr>\n",
       "      <th>6</th>\n",
       "      <td>0</td>\n",
       "    </tr>\n",
       "    <tr>\n",
       "      <th>7</th>\n",
       "      <td>0</td>\n",
       "    </tr>\n",
       "    <tr>\n",
       "      <th>8</th>\n",
       "      <td>0</td>\n",
       "    </tr>\n",
       "    <tr>\n",
       "      <th>9</th>\n",
       "      <td>0</td>\n",
       "    </tr>\n",
       "    <tr>\n",
       "      <th>10</th>\n",
       "      <td>0</td>\n",
       "    </tr>\n",
       "  </tbody>\n",
       "</table>\n",
       "</div>"
      ],
      "text/plain": [
       "    AgentCount\n",
       "0            1\n",
       "1            1\n",
       "2            1\n",
       "3            1\n",
       "4            1\n",
       "5            1\n",
       "6            0\n",
       "7            0\n",
       "8            0\n",
       "9            0\n",
       "10           0"
      ]
     },
     "execution_count": 6,
     "metadata": {},
     "output_type": "execute_result"
    }
   ],
   "source": [
    "experiment.simulation.information.get_model_vars_dataframe()"
   ]
  },
  {
   "cell_type": "code",
   "execution_count": 7,
   "id": "67e59579",
   "metadata": {
    "ExecuteTime": {
     "end_time": "2022-08-11T01:23:54.644676Z",
     "start_time": "2022-08-11T01:23:54.630414Z"
    },
    "scrolled": false
   },
   "outputs": [
    {
     "data": {
      "text/html": [
       "<div>\n",
       "<style scoped>\n",
       "    .dataframe tbody tr th:only-of-type {\n",
       "        vertical-align: middle;\n",
       "    }\n",
       "\n",
       "    .dataframe tbody tr th {\n",
       "        vertical-align: top;\n",
       "    }\n",
       "\n",
       "    .dataframe thead th {\n",
       "        text-align: right;\n",
       "    }\n",
       "</style>\n",
       "<table border=\"1\" class=\"dataframe\">\n",
       "  <thead>\n",
       "    <tr style=\"text-align: right;\">\n",
       "      <th></th>\n",
       "      <th></th>\n",
       "      <th>EnergyCounts</th>\n",
       "      <th>DirectionCounts</th>\n",
       "    </tr>\n",
       "    <tr>\n",
       "      <th>Step</th>\n",
       "      <th>AgentID</th>\n",
       "      <th></th>\n",
       "      <th></th>\n",
       "    </tr>\n",
       "  </thead>\n",
       "  <tbody>\n",
       "    <tr>\n",
       "      <th>0</th>\n",
       "      <th>1</th>\n",
       "      <td>5</td>\n",
       "      <td>Origin</td>\n",
       "    </tr>\n",
       "    <tr>\n",
       "      <th>1</th>\n",
       "      <th>1</th>\n",
       "      <td>4</td>\n",
       "      <td>None</td>\n",
       "    </tr>\n",
       "    <tr>\n",
       "      <th>2</th>\n",
       "      <th>1</th>\n",
       "      <td>3</td>\n",
       "      <td>None</td>\n",
       "    </tr>\n",
       "    <tr>\n",
       "      <th>3</th>\n",
       "      <th>1</th>\n",
       "      <td>2</td>\n",
       "      <td>None</td>\n",
       "    </tr>\n",
       "    <tr>\n",
       "      <th>4</th>\n",
       "      <th>1</th>\n",
       "      <td>1</td>\n",
       "      <td>None</td>\n",
       "    </tr>\n",
       "    <tr>\n",
       "      <th>5</th>\n",
       "      <th>1</th>\n",
       "      <td>0</td>\n",
       "      <td>None</td>\n",
       "    </tr>\n",
       "  </tbody>\n",
       "</table>\n",
       "</div>"
      ],
      "text/plain": [
       "              EnergyCounts DirectionCounts\n",
       "Step AgentID                              \n",
       "0    1                   5          Origin\n",
       "1    1                   4            None\n",
       "2    1                   3            None\n",
       "3    1                   2            None\n",
       "4    1                   1            None\n",
       "5    1                   0            None"
      ]
     },
     "execution_count": 7,
     "metadata": {},
     "output_type": "execute_result"
    }
   ],
   "source": [
    "experiment.simulation.information.get_agent_vars_dataframe()"
   ]
  },
  {
   "cell_type": "code",
   "execution_count": null,
   "id": "5ea5bb2c",
   "metadata": {},
   "outputs": [],
   "source": []
  },
  {
   "cell_type": "code",
   "execution_count": null,
   "id": "211ba185",
   "metadata": {},
   "outputs": [],
   "source": []
  }
 ],
 "metadata": {
  "kernelspec": {
   "display_name": "Python 3",
   "language": "python",
   "name": "python3"
  },
  "language_info": {
   "codemirror_mode": {
    "name": "ipython",
    "version": 3
   },
   "file_extension": ".py",
   "mimetype": "text/x-python",
   "name": "python",
   "nbconvert_exporter": "python",
   "pygments_lexer": "ipython3",
   "version": "3.7.13"
  },
  "toc": {
   "base_numbering": 1,
   "nav_menu": {},
   "number_sections": true,
   "sideBar": true,
   "skip_h1_title": false,
   "title_cell": "Table of Contents",
   "title_sidebar": "Contents",
   "toc_cell": false,
   "toc_position": {},
   "toc_section_display": true,
   "toc_window_display": false
  }
 },
 "nbformat": 4,
 "nbformat_minor": 5
}
