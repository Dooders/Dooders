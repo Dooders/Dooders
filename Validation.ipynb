{
 "cells": [
  {
   "cell_type": "code",
   "execution_count": 1,
   "id": "727c0c36",
   "metadata": {
    "ExecuteTime": {
     "end_time": "2022-09-02T00:54:13.587729Z",
     "start_time": "2022-09-02T00:54:12.249731Z"
    }
   },
   "outputs": [],
   "source": [
    "from experiment import Experiment\n",
    "\n",
    "from sdk.dooder import Dooder\n",
    "from sdk.environment.energy import Energy\n",
    "from sdk.config import ExperimentParameters"
   ]
  },
  {
   "cell_type": "code",
   "execution_count": 2,
   "id": "36a398c4",
   "metadata": {
    "ExecuteTime": {
     "end_time": "2022-09-02T00:54:13.603731Z",
     "start_time": "2022-09-02T00:54:13.591737Z"
    }
   },
   "outputs": [],
   "source": [
    "# override parameters, get object fix, get random object, stop conditions"
   ]
  },
  {
   "cell_type": "code",
   "execution_count": 3,
   "id": "b9b8ae91",
   "metadata": {
    "ExecuteTime": {
     "end_time": "2022-09-02T00:54:13.618732Z",
     "start_time": "2022-09-02T00:54:13.609736Z"
    }
   },
   "outputs": [],
   "source": [
    "with open(\"sdk/config.json\", \"r\") as f:\n",
    "     config = json.load(f)"
   ]
  },
  {
   "cell_type": "code",
   "execution_count": 4,
   "id": "f2cb532f",
   "metadata": {
    "ExecuteTime": {
     "end_time": "2022-09-02T00:54:13.634729Z",
     "start_time": "2022-09-02T00:54:13.621734Z"
    }
   },
   "outputs": [],
   "source": [
    "# DEFAULT_PARAMETERS = {\n",
    "#     'width':20,\n",
    "#     'height':20,\n",
    "#     'agents':10,\n",
    "#     'verbose':True,\n",
    "#     'verbosity':1,\n",
    "#     'steps':10,\n",
    "#     'granularity':2, # make so this goes through\n",
    "#     'initial_energy_value': 1,\n",
    "#     'initial_energy_count': 20,\n",
    "#     'max_energy_life_span': 5\n",
    "# }\n",
    "experiment = Experiment(config)"
   ]
  },
  {
   "cell_type": "code",
   "execution_count": 5,
   "id": "d1b16ca6",
   "metadata": {
    "ExecuteTime": {
     "end_time": "2022-09-02T00:54:13.681729Z",
     "start_time": "2022-09-02T00:54:13.636731Z"
    },
    "scrolled": false
   },
   "outputs": [],
   "source": [
    "# experiment.simulation.step()\n",
    "experiment.simulation.run_simulation()\n",
    "# experiment.simulation.setup()\n",
    "# experiment.simulation.cycle()\n",
    "# for i in range(10):\n",
    "#     experiment.simulation.cycle()"
   ]
  },
  {
   "cell_type": "code",
   "execution_count": 6,
   "id": "6010846f",
   "metadata": {
    "ExecuteTime": {
     "end_time": "2022-09-02T00:54:13.696729Z",
     "start_time": "2022-09-02T00:54:13.683732Z"
    }
   },
   "outputs": [],
   "source": [
    "results = experiment.simulation.get_results()"
   ]
  },
  {
   "cell_type": "code",
   "execution_count": 7,
   "id": "17dad1b4",
   "metadata": {
    "ExecuteTime": {
     "end_time": "2022-09-02T00:54:13.727732Z",
     "start_time": "2022-09-02T00:54:13.698730Z"
    }
   },
   "outputs": [
    {
     "data": {
      "text/plain": [
       "{'CycleCount': 17, 'DooderCount': 0, 'EnergyCount': 52, 'DirectionCounts': {}}"
      ]
     },
     "execution_count": 7,
     "metadata": {},
     "output_type": "execute_result"
    }
   ],
   "source": [
    "results"
   ]
  },
  {
   "cell_type": "code",
   "execution_count": 8,
   "id": "cbc7b258",
   "metadata": {
    "ExecuteTime": {
     "end_time": "2022-09-02T00:54:13.758729Z",
     "start_time": "2022-09-02T00:54:13.730731Z"
    }
   },
   "outputs": [
    {
     "data": {
      "text/html": [
       "<div>\n",
       "<style scoped>\n",
       "    .dataframe tbody tr th:only-of-type {\n",
       "        vertical-align: middle;\n",
       "    }\n",
       "\n",
       "    .dataframe tbody tr th {\n",
       "        vertical-align: top;\n",
       "    }\n",
       "\n",
       "    .dataframe thead th {\n",
       "        text-align: right;\n",
       "    }\n",
       "</style>\n",
       "<table border=\"1\" class=\"dataframe\">\n",
       "  <thead>\n",
       "    <tr style=\"text-align: right;\">\n",
       "      <th></th>\n",
       "      <th>DooderCount</th>\n",
       "      <th>EnergyCount</th>\n",
       "      <th>DirectionCounts</th>\n",
       "    </tr>\n",
       "  </thead>\n",
       "  <tbody>\n",
       "    <tr>\n",
       "      <th>0</th>\n",
       "      <td>10</td>\n",
       "      <td>10</td>\n",
       "      <td>{'Origin': 10}</td>\n",
       "    </tr>\n",
       "    <tr>\n",
       "      <th>1</th>\n",
       "      <td>10</td>\n",
       "      <td>20</td>\n",
       "      <td>{'None': 9, 'NW': 1}</td>\n",
       "    </tr>\n",
       "    <tr>\n",
       "      <th>2</th>\n",
       "      <td>10</td>\n",
       "      <td>27</td>\n",
       "      <td>{'E': 1, 'None': 5, 'NW': 3, 'SW': 1}</td>\n",
       "    </tr>\n",
       "    <tr>\n",
       "      <th>3</th>\n",
       "      <td>10</td>\n",
       "      <td>33</td>\n",
       "      <td>{'N': 2, 'None': 7, 'E': 1}</td>\n",
       "    </tr>\n",
       "    <tr>\n",
       "      <th>4</th>\n",
       "      <td>10</td>\n",
       "      <td>39</td>\n",
       "      <td>{'W': 2, 'None': 5, 'E': 1, 'S': 1, 'NW': 1}</td>\n",
       "    </tr>\n",
       "    <tr>\n",
       "      <th>5</th>\n",
       "      <td>10</td>\n",
       "      <td>47</td>\n",
       "      <td>{'None': 4, 'W': 2, 'E': 1, 'NW': 1, 'SE': 1, ...</td>\n",
       "    </tr>\n",
       "    <tr>\n",
       "      <th>6</th>\n",
       "      <td>10</td>\n",
       "      <td>52</td>\n",
       "      <td>{'None': 7, 'SE': 1, 'W': 1, 'N': 1}</td>\n",
       "    </tr>\n",
       "    <tr>\n",
       "      <th>7</th>\n",
       "      <td>9</td>\n",
       "      <td>57</td>\n",
       "      <td>{'SE': 1, 'None': 4, 'S': 1, 'N': 1, 'NW': 1, ...</td>\n",
       "    </tr>\n",
       "    <tr>\n",
       "      <th>8</th>\n",
       "      <td>8</td>\n",
       "      <td>56</td>\n",
       "      <td>{'NW': 2, 'SE': 2, 'N': 1, 'S': 1, 'None': 2}</td>\n",
       "    </tr>\n",
       "    <tr>\n",
       "      <th>9</th>\n",
       "      <td>6</td>\n",
       "      <td>51</td>\n",
       "      <td>{'None': 5, 'NE': 1}</td>\n",
       "    </tr>\n",
       "  </tbody>\n",
       "</table>\n",
       "</div>"
      ],
      "text/plain": [
       "   DooderCount  EnergyCount                                    DirectionCounts\n",
       "0           10           10                                     {'Origin': 10}\n",
       "1           10           20                               {'None': 9, 'NW': 1}\n",
       "2           10           27              {'E': 1, 'None': 5, 'NW': 3, 'SW': 1}\n",
       "3           10           33                        {'N': 2, 'None': 7, 'E': 1}\n",
       "4           10           39       {'W': 2, 'None': 5, 'E': 1, 'S': 1, 'NW': 1}\n",
       "5           10           47  {'None': 4, 'W': 2, 'E': 1, 'NW': 1, 'SE': 1, ...\n",
       "6           10           52               {'None': 7, 'SE': 1, 'W': 1, 'N': 1}\n",
       "7            9           57  {'SE': 1, 'None': 4, 'S': 1, 'N': 1, 'NW': 1, ...\n",
       "8            8           56      {'NW': 2, 'SE': 2, 'N': 1, 'S': 1, 'None': 2}\n",
       "9            6           51                               {'None': 5, 'NE': 1}"
      ]
     },
     "execution_count": 8,
     "metadata": {},
     "output_type": "execute_result"
    }
   ],
   "source": [
    "experiment.simulation.information.get_dataframe('Simulation').head(10)"
   ]
  },
  {
   "cell_type": "code",
   "execution_count": 9,
   "id": "47d945b8",
   "metadata": {
    "ExecuteTime": {
     "end_time": "2022-09-02T00:54:13.773731Z",
     "start_time": "2022-09-02T00:54:13.761733Z"
    }
   },
   "outputs": [
    {
     "data": {
      "text/plain": [
       "[]"
      ]
     },
     "execution_count": 9,
     "metadata": {},
     "output_type": "execute_result"
    }
   ],
   "source": [
    "experiment.get_objects('Dooder')"
   ]
  },
  {
   "cell_type": "code",
   "execution_count": 10,
   "id": "c107fcab",
   "metadata": {
    "ExecuteTime": {
     "end_time": "2022-09-02T00:54:13.788730Z",
     "start_time": "2022-09-02T00:54:13.775731Z"
    }
   },
   "outputs": [
    {
     "data": {
      "text/plain": [
       "52"
      ]
     },
     "execution_count": 10,
     "metadata": {},
     "output_type": "execute_result"
    }
   ],
   "source": [
    "len(experiment.get_objects('Energy'))"
   ]
  },
  {
   "cell_type": "code",
   "execution_count": 11,
   "id": "5847e2a4",
   "metadata": {
    "ExecuteTime": {
     "end_time": "2022-09-02T00:54:13.834729Z",
     "start_time": "2022-09-02T00:54:13.791733Z"
    },
    "scrolled": false
   },
   "outputs": [
    {
     "name": "stdout",
     "output_type": "stream",
     "text": [
      "{'timestamp': '2022-09-01 17:54:13,656', 'experiment_id':'d5CY2qPrfHcpGMQ4Zf8gEg', 'scope': 'Dooder', 'id': 'GxGPWMEUeWxV2768ioTBu5', 'cycle_number': 7, 'granularity': 2, 'message': 'Moved NW from (9, 13) to (8, 14)'},\n",
      "\n",
      "{'timestamp': '2022-09-01 17:54:13,656', 'experiment_id':'d5CY2qPrfHcpGMQ4Zf8gEg', 'scope': 'Dooder', 'id': 'aZaAf2Wgf7DBPHHw8PCdmn', 'cycle_number': 7, 'granularity': 2, 'message': 'Moved SE from (16, 2) to (17, 1)'},\n",
      "\n",
      "{'timestamp': '2022-09-01 17:54:13,656', 'experiment_id':'d5CY2qPrfHcpGMQ4Zf8gEg', 'scope': 'Dooder', 'id': 'hC8bX9i8o7VicBHJDqG3dx', 'cycle_number': 7, 'granularity': 1, 'message': 'Died from lack of energy'},\n",
      "\n",
      "{'timestamp': '2022-09-01 17:54:13,657', 'experiment_id':'d5CY2qPrfHcpGMQ4Zf8gEg', 'scope': 'Dooder', 'id': 'GxGPWMEUeWxV2768ioTBu5', 'cycle_number': 8, 'granularity': 1, 'message': 'Died from lack of energy'},\n",
      "\n",
      "{'timestamp': '2022-09-01 17:54:13,657', 'experiment_id':'d5CY2qPrfHcpGMQ4Zf8gEg', 'scope': 'Dooder', 'id': 'D5xXE57HBTB38h5SjHTdzx', 'cycle_number': 8, 'granularity': 2, 'message': 'Moved NE from (23, 6) to (24, 7)'},\n",
      "\n",
      "{'timestamp': '2022-09-01 17:54:13,657', 'experiment_id':'d5CY2qPrfHcpGMQ4Zf8gEg', 'scope': 'Dooder', 'id': 'YMbF4vcAMkqa68qhwFaq5v', 'cycle_number': 8, 'granularity': 1, 'message': 'Died from lack of energy'},\n",
      "\n",
      "{'timestamp': '2022-09-01 17:54:13,658', 'experiment_id':'d5CY2qPrfHcpGMQ4Zf8gEg', 'scope': 'Dooder', 'id': 'PEFJnvnfPW5FjHq338QESZ', 'cycle_number': 9, 'granularity': 1, 'message': 'Died from lack of energy'},\n",
      "\n",
      "{'timestamp': '2022-09-01 17:54:13,658', 'experiment_id':'d5CY2qPrfHcpGMQ4Zf8gEg', 'scope': 'Dooder', 'id': 'aZaAf2Wgf7DBPHHw8PCdmn', 'cycle_number': 9, 'granularity': 2, 'message': 'Moved NE from (17, 1) to (18, 2)'},\n",
      "\n",
      "{'timestamp': '2022-09-01 17:54:13,658', 'experiment_id':'d5CY2qPrfHcpGMQ4Zf8gEg', 'scope': 'Dooder', 'id': 'D5xXE57HBTB38h5SjHTdzx', 'cycle_number': 9, 'granularity': 1, 'message': 'Died from lack of energy'},\n",
      "\n",
      "{'timestamp': '2022-09-01 17:54:13,659', 'experiment_id':'d5CY2qPrfHcpGMQ4Zf8gEg', 'scope': 'Dooder', 'id': 'aZaAf2Wgf7DBPHHw8PCdmn', 'cycle_number': 10, 'granularity': 2, 'message': 'Moved SE from (18, 2) to (19, 1)'},\n",
      "\n",
      "{'timestamp': '2022-09-01 17:54:13,660', 'experiment_id':'d5CY2qPrfHcpGMQ4Zf8gEg', 'scope': 'Dooder', 'id': 'aZaAf2Wgf7DBPHHw8PCdmn', 'cycle_number': 11, 'granularity': 1, 'message': 'Died from lack of energy'},\n",
      "\n",
      "{'timestamp': '2022-09-01 17:54:13,660', 'experiment_id':'d5CY2qPrfHcpGMQ4Zf8gEg', 'scope': 'Dooder', 'id': 'mKjDfshFrwTMvc4VDHUpmG', 'cycle_number': 11, 'granularity': 2, 'message': 'Moved N from (11, 12) to (11, 12)'},\n",
      "\n",
      "{'timestamp': '2022-09-01 17:54:13,661', 'experiment_id':'d5CY2qPrfHcpGMQ4Zf8gEg', 'scope': 'Dooder', 'id': 'dQBCBeW2n2nZh6NBq2V25j', 'cycle_number': 12, 'granularity': 2, 'message': 'Moved N from (25, 17) to (25, 18)'},\n",
      "\n",
      "{'timestamp': '2022-09-01 17:54:13,661', 'experiment_id':'d5CY2qPrfHcpGMQ4Zf8gEg', 'scope': 'Dooder', 'id': '239i5xcGRfmdfEb9JxYck7', 'cycle_number': 12, 'granularity': 2, 'message': 'Moved S from (9, 7) to (9, 6)'},\n",
      "\n",
      "{'timestamp': '2022-09-01 17:54:13,663', 'experiment_id':'d5CY2qPrfHcpGMQ4Zf8gEg', 'scope': 'Dooder', 'id': 'dQBCBeW2n2nZh6NBq2V25j', 'cycle_number': 13, 'granularity': 1, 'message': 'Died from lack of energy'},\n",
      "\n",
      "{'timestamp': '2022-09-01 17:54:13,664', 'experiment_id':'d5CY2qPrfHcpGMQ4Zf8gEg', 'scope': 'Dooder', 'id': 'mKjDfshFrwTMvc4VDHUpmG', 'cycle_number': 14, 'granularity': 2, 'message': 'Moved W from (11, 12) to (10, 12)'},\n",
      "\n",
      "{'timestamp': '2022-09-01 17:54:13,664', 'experiment_id':'d5CY2qPrfHcpGMQ4Zf8gEg', 'scope': 'Dooder', 'id': 'mKjDfshFrwTMvc4VDHUpmG', 'cycle_number': 15, 'granularity': 1, 'message': 'Died from lack of energy'},\n",
      "\n",
      "{'timestamp': '2022-09-01 17:54:13,665', 'experiment_id':'d5CY2qPrfHcpGMQ4Zf8gEg', 'scope': 'Dooder', 'id': '239i5xcGRfmdfEb9JxYck7', 'cycle_number': 15, 'granularity': 2, 'message': 'Moved NE from (9, 6) to (10, 7)'},\n",
      "\n",
      "{'timestamp': '2022-09-01 17:54:13,666', 'experiment_id':'d5CY2qPrfHcpGMQ4Zf8gEg', 'scope': 'Dooder', 'id': '239i5xcGRfmdfEb9JxYck7', 'cycle_number': 16, 'granularity': 1, 'message': 'Died from lack of energy'},\n",
      "\n",
      "{'timestamp': '2022-09-01 17:54:13,667', 'experiment_id':'d5CY2qPrfHcpGMQ4Zf8gEg', Simulation stopped by check_dooder_count},\n",
      "\n"
     ]
    }
   ],
   "source": [
    "experiment.get_log() # make the log file remove records at some point"
   ]
  },
  {
   "cell_type": "code",
   "execution_count": 12,
   "id": "6dfbc7d6",
   "metadata": {
    "ExecuteTime": {
     "end_time": "2022-09-02T00:54:13.849730Z",
     "start_time": "2022-09-02T00:54:13.838730Z"
    }
   },
   "outputs": [
    {
     "data": {
      "text/plain": [
       "'No object found'"
      ]
     },
     "execution_count": 12,
     "metadata": {},
     "output_type": "execute_result"
    }
   ],
   "source": [
    "experiment.get_object('MA4fbqRzRrHq5LeE5EdKAX')"
   ]
  },
  {
   "cell_type": "code",
   "execution_count": 13,
   "id": "970ae3bb",
   "metadata": {
    "ExecuteTime": {
     "end_time": "2022-09-02T00:54:13.865754Z",
     "start_time": "2022-09-02T00:54:13.851729Z"
    }
   },
   "outputs": [
    {
     "data": {
      "text/plain": [
       "0"
      ]
     },
     "execution_count": 13,
     "metadata": {},
     "output_type": "execute_result"
    }
   ],
   "source": [
    "experiment.simulation.information.collectors['Simulation']['DooderCount'](experiment.simulation)"
   ]
  },
  {
   "cell_type": "code",
   "execution_count": 14,
   "id": "068e9e32",
   "metadata": {
    "ExecuteTime": {
     "end_time": "2022-09-02T00:54:13.880741Z",
     "start_time": "2022-09-02T00:54:13.867729Z"
    }
   },
   "outputs": [
    {
     "data": {
      "text/plain": [
       "52"
      ]
     },
     "execution_count": 14,
     "metadata": {},
     "output_type": "execute_result"
    }
   ],
   "source": [
    "experiment.simulation.time.get_object_count('Energy')"
   ]
  },
  {
   "cell_type": "code",
   "execution_count": 15,
   "id": "e393dc6b",
   "metadata": {
    "ExecuteTime": {
     "end_time": "2022-09-02T00:54:13.895740Z",
     "start_time": "2022-09-02T00:54:13.882731Z"
    }
   },
   "outputs": [
    {
     "data": {
      "text/plain": [
       "defaultdict(dict,\n",
       "            {'Dooder': {},\n",
       "             'Energy': {'7hmeNyyq4WnrhPTbZDuLPH': <sdk.environment.energy.Energy at 0x1d7a7cd2e20>,\n",
       "              'oBgud6XkoHFRhxGM4dt5Kj': <sdk.environment.energy.Energy at 0x1d7a7d13790>,\n",
       "              'BMkKcuFEfkxBXgbGcSyeg2': <sdk.environment.energy.Energy at 0x1d7a7d13a30>,\n",
       "              'fAP2KNUMna8XjdVYcvEt4C': <sdk.environment.energy.Energy at 0x1d7a7d131c0>,\n",
       "              '2j9Uj7Jh6gH4Xmyav8Q83U': <sdk.environment.energy.Energy at 0x1d7a7d13c10>,\n",
       "              'LhQvWtDxWUAFdGBZJbFBnw': <sdk.environment.energy.Energy at 0x1d7a7cd2400>,\n",
       "              'XEwsN4Y3BywqBRrmEdogiZ': <sdk.environment.energy.Energy at 0x1d7a7d13ca0>,\n",
       "              'ht2p73KqXiMMjNWSNsbqez': <sdk.environment.energy.Energy at 0x1d7a7d13a90>,\n",
       "              '6bzByZgtZUsYC57ByD5bJE': <sdk.environment.energy.Energy at 0x1d7a7d131f0>,\n",
       "              'AKHJo3nuauqQbiPfwLEbWm': <sdk.environment.energy.Energy at 0x1d7a7d13670>,\n",
       "              'FXbC9TG5MwySmbtroe6fDJ': <sdk.environment.energy.Energy at 0x1d7a7d138b0>,\n",
       "              'HgKyH4aZw2yfWJW4NBcez9': <sdk.environment.energy.Energy at 0x1d7a7cd2670>,\n",
       "              'Z6TQ8CoduJF7ahK9xFbjUW': <sdk.environment.energy.Energy at 0x1d7a7cd2d90>,\n",
       "              'CdJuvstfVGVkqLMj4iDAvP': <sdk.environment.energy.Energy at 0x1d7a7d13940>,\n",
       "              'PZp9Lz9w8wK6328UtXTHGF': <sdk.environment.energy.Energy at 0x1d7a7d135e0>,\n",
       "              'mE4npbBw94YxS6e89BLedr': <sdk.environment.energy.Energy at 0x1d7a7d139d0>,\n",
       "              '4N3AyjryJ6MTSfgRq4AdsQ': <sdk.environment.energy.Energy at 0x1d7a7d136a0>,\n",
       "              'NhJ28etz3RdJUD3C7HWrvr': <sdk.environment.energy.Energy at 0x1d7a7d13d00>,\n",
       "              'HYfQp4TiJMx5XQiJYuxceR': <sdk.environment.energy.Energy at 0x1d7a7d13ee0>,\n",
       "              'JnjoUw8VieVMKp3yiWKYMo': <sdk.environment.energy.Energy at 0x1d7a7d13d30>,\n",
       "              '7eBBKPcMxxCaHMUVocRZZj': <sdk.environment.energy.Energy at 0x1d7a7d132e0>,\n",
       "              'h6pde4E2U7NdeqMrUELzJ2': <sdk.environment.energy.Energy at 0x1d7a7d13cd0>,\n",
       "              '939cBGW7TYWcrQFNw5GKcn': <sdk.environment.energy.Energy at 0x1d7a7d13040>,\n",
       "              'GsZAWbFHuBscUsgw8Qcc67': <sdk.environment.energy.Energy at 0x1d7a7d13730>,\n",
       "              'dNstHaH3kYNUE6smemZJf7': <sdk.environment.energy.Energy at 0x1d7a7d13ac0>,\n",
       "              'MTyLH2AUdU34FS5BT7zo63': <sdk.environment.energy.Energy at 0x1d7a7cd2ee0>,\n",
       "              'EiXea8PfvuqXJrfNT7fhf8': <sdk.environment.energy.Energy at 0x1d7a7cd2b80>,\n",
       "              'frPdSynK7FwwSr3tj86fdg': <sdk.environment.energy.Energy at 0x1d7a7cd2f10>,\n",
       "              'hda5EPAsmLxJfQt8aEMvrQ': <sdk.environment.energy.Energy at 0x1d7a7d13490>,\n",
       "              'RcmMuGfagoHBZgSK46j8WH': <sdk.environment.energy.Energy at 0x1d7a7d13430>,\n",
       "              'XWe292oCs58MK9oMC2MsQ3': <sdk.environment.energy.Energy at 0x1d7a7d13a60>,\n",
       "              'B6a5FvB6YjhbZ8vFppxq6b': <sdk.environment.energy.Energy at 0x1d7a7d13dc0>,\n",
       "              'Sa4WiK9vaReeWUPcNXxpgW': <sdk.environment.energy.Energy at 0x1d7a7d130d0>,\n",
       "              'W3QHYwedbgeG3YdWKJGk67': <sdk.environment.energy.Energy at 0x1d7a7d13100>,\n",
       "              'ehdfegChcYvKrgfL8UXfaf': <sdk.environment.energy.Energy at 0x1d7a7d139a0>,\n",
       "              '5aWQ5kAoodHL2MDpLKyZqw': <sdk.environment.energy.Energy at 0x1d7a7d13400>,\n",
       "              'HP97qiVenAcYXcbUjcQFXf': <sdk.environment.energy.Energy at 0x1d7a7d13bb0>,\n",
       "              '4GoVt4ENrb83bKXhzK7ysB': <sdk.environment.energy.Energy at 0x1d7a7d13a00>,\n",
       "              'HmBdxQyBu6sDq9JBGeYBL3': <sdk.environment.energy.Energy at 0x1d7a7d13e80>,\n",
       "              'SFBmvQ6noonL9WAv3pxTuW': <sdk.environment.energy.Energy at 0x1d7a7d130a0>,\n",
       "              'kyJiUsRS2VZwKcdsCAbNkU': <sdk.environment.energy.Energy at 0x1d7a7d13e50>,\n",
       "              'aTVtgqMzKfip42X78n2JxB': <sdk.environment.energy.Energy at 0x1d7a7d13340>,\n",
       "              'G2vFsKv7zWuHDBC7TrziwG': <sdk.environment.energy.Energy at 0x1d7a7cd2fa0>,\n",
       "              '5GGSNVC5cDaY96CraSp3mZ': <sdk.environment.energy.Energy at 0x1d7a7cd2430>,\n",
       "              '6uULv3xktQH8MFq8Huanc6': <sdk.environment.energy.Energy at 0x1d7a7cd2c10>,\n",
       "              'ZBdPThnqNzS5n5oRheWVNe': <sdk.environment.energy.Energy at 0x1d7a7cd2e50>,\n",
       "              'HScm4iAwVGM9o3eHEjWzS6': <sdk.environment.energy.Energy at 0x1d7a7cd2fd0>,\n",
       "              'UbNUbvH4aR5C7rZYuJpSVU': <sdk.environment.energy.Energy at 0x1d7a7cd2f70>,\n",
       "              'CvpgHC8R3B9PC9Dbi9GVKa': <sdk.environment.energy.Energy at 0x1d7a7cd2e80>,\n",
       "              'NWwFFw9YGwNHbYxbwVzHaK': <sdk.environment.energy.Energy at 0x1d7a7d13520>,\n",
       "              'T9VWMHuL9v4YPrVw4iZthZ': <sdk.environment.energy.Energy at 0x1d7a7d13af0>,\n",
       "              'G7Ycf579yaqAPfEmuDoiJB': <sdk.environment.energy.Energy at 0x1d7a7d13e20>}})"
      ]
     },
     "execution_count": 15,
     "metadata": {},
     "output_type": "execute_result"
    }
   ],
   "source": [
    "experiment.simulation.time._objects"
   ]
  },
  {
   "cell_type": "code",
   "execution_count": 16,
   "id": "37ddbdbe",
   "metadata": {
    "ExecuteTime": {
     "end_time": "2022-09-02T00:54:13.911740Z",
     "start_time": "2022-09-02T00:54:13.897729Z"
    }
   },
   "outputs": [],
   "source": [
    "results = {}\n",
    "results['CycleCount'] = experiment.simulation.time.time\n",
    "\n",
    "for component, values in experiment.simulation.information.data.items():\n",
    "    for column, value in values.items():\n",
    "        results[column] = value[-1]"
   ]
  },
  {
   "cell_type": "code",
   "execution_count": 17,
   "id": "ed32c520",
   "metadata": {
    "ExecuteTime": {
     "end_time": "2022-09-02T00:54:13.942732Z",
     "start_time": "2022-09-02T00:54:13.918743Z"
    }
   },
   "outputs": [
    {
     "data": {
      "text/plain": [
       "{'CycleCount': 17, 'DooderCount': 0, 'EnergyCount': 52, 'DirectionCounts': {}}"
      ]
     },
     "execution_count": 17,
     "metadata": {},
     "output_type": "execute_result"
    }
   ],
   "source": [
    "results"
   ]
  },
  {
   "cell_type": "code",
   "execution_count": 18,
   "id": "a6b89d69",
   "metadata": {
    "ExecuteTime": {
     "end_time": "2022-09-02T00:54:13.974729Z",
     "start_time": "2022-09-02T00:54:13.951746Z"
    }
   },
   "outputs": [],
   "source": [
    "dooders = experiment.simulation.time.get_objects('Dooder')\n",
    "    \n",
    "from collections import Counter\n",
    "direction_list = [dooder.direction for dooder in dooders]\n",
    "direction_counts = Counter(direction_list)"
   ]
  },
  {
   "cell_type": "code",
   "execution_count": 19,
   "id": "589b6d14",
   "metadata": {
    "ExecuteTime": {
     "end_time": "2022-09-02T00:54:13.990727Z",
     "start_time": "2022-09-02T00:54:13.977735Z"
    }
   },
   "outputs": [
    {
     "data": {
      "text/plain": [
       "[]"
      ]
     },
     "execution_count": 19,
     "metadata": {},
     "output_type": "execute_result"
    }
   ],
   "source": [
    "direction_list"
   ]
  },
  {
   "cell_type": "code",
   "execution_count": 20,
   "id": "72bbd84d",
   "metadata": {
    "ExecuteTime": {
     "end_time": "2022-09-02T00:54:14.006728Z",
     "start_time": "2022-09-02T00:54:13.992731Z"
    }
   },
   "outputs": [
    {
     "data": {
      "text/plain": [
       "{}"
      ]
     },
     "execution_count": 20,
     "metadata": {},
     "output_type": "execute_result"
    }
   ],
   "source": [
    "dict(direction_counts)"
   ]
  },
  {
   "cell_type": "code",
   "execution_count": null,
   "id": "17d6e9f8",
   "metadata": {},
   "outputs": [],
   "source": []
  },
  {
   "cell_type": "code",
   "execution_count": 21,
   "id": "affe5a15",
   "metadata": {
    "ExecuteTime": {
     "end_time": "2022-09-02T00:54:14.022727Z",
     "start_time": "2022-09-02T00:54:14.007729Z"
    }
   },
   "outputs": [
    {
     "data": {
      "text/plain": [
       "[(1, 2)]"
      ]
     },
     "execution_count": 21,
     "metadata": {},
     "output_type": "execute_result"
    }
   ],
   "source": [
    "experiment.simulation.environment.get_random_neighborhoods((1,1))"
   ]
  },
  {
   "cell_type": "code",
   "execution_count": 22,
   "id": "68d97db7",
   "metadata": {
    "ExecuteTime": {
     "end_time": "2022-09-02T00:54:14.038730Z",
     "start_time": "2022-09-02T00:54:14.023729Z"
    }
   },
   "outputs": [
    {
     "data": {
      "text/plain": [
       "'No objects found'"
      ]
     },
     "execution_count": 22,
     "metadata": {},
     "output_type": "execute_result"
    }
   ],
   "source": [
    "objectt = experiment.get_random_objects()\n",
    "\n",
    "experiment.simulation.environment.get_random_neighbors(objectt)"
   ]
  },
  {
   "cell_type": "code",
   "execution_count": 23,
   "id": "9ffdb84f",
   "metadata": {
    "ExecuteTime": {
     "end_time": "2022-09-02T00:54:14.054730Z",
     "start_time": "2022-09-02T00:54:14.040732Z"
    }
   },
   "outputs": [
    {
     "data": {
      "text/plain": [
       "(21, 4)"
      ]
     },
     "execution_count": 23,
     "metadata": {},
     "output_type": "execute_result"
    }
   ],
   "source": [
    "objectt[0].position"
   ]
  },
  {
   "cell_type": "code",
   "execution_count": null,
   "id": "b744cd1b",
   "metadata": {},
   "outputs": [],
   "source": []
  },
  {
   "cell_type": "code",
   "execution_count": null,
   "id": "6053715d",
   "metadata": {},
   "outputs": [],
   "source": []
  },
  {
   "cell_type": "code",
   "execution_count": null,
   "id": "557939a1",
   "metadata": {},
   "outputs": [],
   "source": []
  },
  {
   "cell_type": "code",
   "execution_count": null,
   "id": "b2bf1926",
   "metadata": {},
   "outputs": [],
   "source": []
  },
  {
   "cell_type": "code",
   "execution_count": 24,
   "id": "29d7f82f",
   "metadata": {
    "ExecuteTime": {
     "end_time": "2022-09-02T00:54:14.070728Z",
     "start_time": "2022-09-02T00:54:14.057732Z"
    }
   },
   "outputs": [],
   "source": [
    "from sdk.stop_conditions import ConditionRegistry"
   ]
  },
  {
   "cell_type": "code",
   "execution_count": 25,
   "id": "a2389415",
   "metadata": {
    "ExecuteTime": {
     "end_time": "2022-09-02T00:54:14.086729Z",
     "start_time": "2022-09-02T00:54:14.072731Z"
    }
   },
   "outputs": [
    {
     "data": {
      "text/plain": [
       "(True, 'check_simulation_running')"
      ]
     },
     "execution_count": 25,
     "metadata": {},
     "output_type": "execute_result"
    }
   ],
   "source": [
    "ConditionRegistry.check_conditions(experiment.simulation)"
   ]
  },
  {
   "cell_type": "code",
   "execution_count": null,
   "id": "67232cef",
   "metadata": {},
   "outputs": [],
   "source": []
  },
  {
   "cell_type": "code",
   "execution_count": null,
   "id": "a0e5e123",
   "metadata": {},
   "outputs": [],
   "source": []
  },
  {
   "cell_type": "code",
   "execution_count": null,
   "id": "5ced92b2",
   "metadata": {},
   "outputs": [],
   "source": []
  },
  {
   "cell_type": "code",
   "execution_count": null,
   "id": "231f166e",
   "metadata": {},
   "outputs": [],
   "source": []
  },
  {
   "cell_type": "code",
   "execution_count": null,
   "id": "59d7402c",
   "metadata": {},
   "outputs": [],
   "source": []
  }
 ],
 "metadata": {
  "kernelspec": {
   "display_name": "Python 3 (ipykernel)",
   "language": "python",
   "name": "python3"
  },
  "language_info": {
   "codemirror_mode": {
    "name": "ipython",
    "version": 3
   },
   "file_extension": ".py",
   "mimetype": "text/x-python",
   "name": "python",
   "nbconvert_exporter": "python",
   "pygments_lexer": "ipython3",
   "version": "3.9.12"
  },
  "toc": {
   "base_numbering": 1,
   "nav_menu": {},
   "number_sections": true,
   "sideBar": true,
   "skip_h1_title": false,
   "title_cell": "Table of Contents",
   "title_sidebar": "Contents",
   "toc_cell": false,
   "toc_position": {},
   "toc_section_display": true,
   "toc_window_display": false
  }
 },
 "nbformat": 4,
 "nbformat_minor": 5
}
