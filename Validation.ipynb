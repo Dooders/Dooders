{
 "cells": [
  {
   "cell_type": "code",
   "execution_count": 1,
   "id": "727c0c36",
   "metadata": {
    "ExecuteTime": {
     "end_time": "2022-08-27T03:49:32.787999Z",
     "start_time": "2022-08-27T03:49:31.976226Z"
    }
   },
   "outputs": [],
   "source": [
    "from experiment import Experiment\n",
    "\n",
    "from sdk.dooder import Dooder\n",
    "from sdk.environment.energy import Energy\n",
    "from sdk.parameters import ExperimentParameters"
   ]
  },
  {
   "cell_type": "code",
   "execution_count": 2,
   "id": "f2cb532f",
   "metadata": {
    "ExecuteTime": {
     "end_time": "2022-08-27T03:49:32.803899Z",
     "start_time": "2022-08-27T03:49:32.788916Z"
    }
   },
   "outputs": [],
   "source": [
    "DEFAULT_PARAMETERS = {\n",
    "    'width':20,\n",
    "    'height':20,\n",
    "    'agents':10,\n",
    "    'verbose':True,\n",
    "    'verbosity':1,\n",
    "    'steps':10,\n",
    "    'granularity':2, # make so this goes through\n",
    "    'initial_energy_value': 1,\n",
    "    'initial_energy_count': 20,\n",
    "    'max_energy_life_span': 5\n",
    "}\n",
    "experiment = Experiment(ExperimentParameters)"
   ]
  },
  {
   "cell_type": "code",
   "execution_count": 3,
   "id": "d1b16ca6",
   "metadata": {
    "ExecuteTime": {
     "end_time": "2022-08-27T03:49:32.865888Z",
     "start_time": "2022-08-27T03:49:32.806927Z"
    },
    "scrolled": false
   },
   "outputs": [
    {
     "name": "stdout",
     "output_type": "stream",
     "text": [
      "{'CycleCount': 0, 'DooderCount': 10, 'EnergyCount': 10, 'DirectionCounts': {'Origin': 10}}\n",
      "{'CycleCount': 1, 'DooderCount': 10, 'EnergyCount': 20, 'DirectionCounts': {'N': 1, 'None': 7, 'S': 1, 'W': 1}}\n",
      "{'CycleCount': 2, 'DooderCount': 10, 'EnergyCount': 26, 'DirectionCounts': {'SW': 1, 'None': 5, 'E': 2, 'NE': 1, 'SE': 1}}\n",
      "{'CycleCount': 3, 'DooderCount': 10, 'EnergyCount': 28, 'DirectionCounts': {'SE': 2, 'N': 2, 'None': 5, 'NW': 1}}\n",
      "{'CycleCount': 4, 'DooderCount': 10, 'EnergyCount': 36, 'DirectionCounts': {'None': 6, 'N': 2, 'SE': 1, 'W': 1}}\n",
      "{'CycleCount': 5, 'DooderCount': 10, 'EnergyCount': 38, 'DirectionCounts': {'SW': 1, 'NE': 2, 'N': 2, 'None': 3, 'SE': 1, 'NW': 1}}\n",
      "{'CycleCount': 6, 'DooderCount': 8, 'EnergyCount': 44, 'DirectionCounts': {'None': 3, 'NW': 2, 'W': 2, 'SW': 1}}\n",
      "{'CycleCount': 7, 'DooderCount': 7, 'EnergyCount': 40, 'DirectionCounts': {'NE': 1, 'None': 5, 'S': 1}}\n",
      "{'CycleCount': 8, 'DooderCount': 6, 'EnergyCount': 40, 'DirectionCounts': {'SE': 1, 'None': 5}}\n",
      "{'CycleCount': 9, 'DooderCount': 5, 'EnergyCount': 38, 'DirectionCounts': {'None': 2, 'N': 1, 'NE': 1, 'E': 1}}\n",
      "{'CycleCount': 10, 'DooderCount': 4, 'EnergyCount': 38, 'DirectionCounts': {'SW': 1, 'None': 2, 'NW': 1}}\n",
      "{'CycleCount': 11, 'DooderCount': 4, 'EnergyCount': 38, 'DirectionCounts': {'NE': 1, 'None': 3}}\n",
      "{'CycleCount': 12, 'DooderCount': 4, 'EnergyCount': 43, 'DirectionCounts': {'None': 4}}\n",
      "{'CycleCount': 13, 'DooderCount': 2, 'EnergyCount': 44, 'DirectionCounts': {'SW': 1, 'SE': 1}}\n",
      "{'CycleCount': 14, 'DooderCount': 2, 'EnergyCount': 49, 'DirectionCounts': {'S': 1, 'None': 1}}\n",
      "{'CycleCount': 15, 'DooderCount': 2, 'EnergyCount': 48, 'DirectionCounts': {'SW': 1, 'None': 1}}\n",
      "{'CycleCount': 16, 'DooderCount': 1, 'EnergyCount': 53, 'DirectionCounts': {'None': 1}}\n",
      "{'CycleCount': 17, 'DooderCount': 1, 'EnergyCount': 48, 'DirectionCounts': {'None': 1}}\n",
      "{'CycleCount': 18, 'DooderCount': 1, 'EnergyCount': 47, 'DirectionCounts': {'None': 1}}\n",
      "{'CycleCount': 19, 'DooderCount': 1, 'EnergyCount': 49, 'DirectionCounts': {'None': 1}}\n",
      "{'CycleCount': 20, 'DooderCount': 1, 'EnergyCount': 48, 'DirectionCounts': {'N': 1}}\n",
      "{'CycleCount': 21, 'DooderCount': 0, 'EnergyCount': 46, 'DirectionCounts': {}}\n",
      "{'CycleCount': 22, 'DooderCount': 0, 'EnergyCount': 50, 'DirectionCounts': {}}\n",
      "{'CycleCount': 23, 'DooderCount': 0, 'EnergyCount': 50, 'DirectionCounts': {}}\n",
      "{'CycleCount': 24, 'DooderCount': 0, 'EnergyCount': 49, 'DirectionCounts': {}}\n",
      "{'CycleCount': 25, 'DooderCount': 0, 'EnergyCount': 53, 'DirectionCounts': {}}\n",
      "{'CycleCount': 26, 'DooderCount': 0, 'EnergyCount': 53, 'DirectionCounts': {}}\n",
      "{'CycleCount': 27, 'DooderCount': 0, 'EnergyCount': 52, 'DirectionCounts': {}}\n",
      "{'CycleCount': 28, 'DooderCount': 0, 'EnergyCount': 49, 'DirectionCounts': {}}\n",
      "{'CycleCount': 29, 'DooderCount': 0, 'EnergyCount': 51, 'DirectionCounts': {}}\n",
      "{'CycleCount': 30, 'DooderCount': 0, 'EnergyCount': 51, 'DirectionCounts': {}}\n",
      "{'CycleCount': 31, 'DooderCount': 0, 'EnergyCount': 50, 'DirectionCounts': {}}\n",
      "{'CycleCount': 32, 'DooderCount': 0, 'EnergyCount': 53, 'DirectionCounts': {}}\n",
      "{'CycleCount': 33, 'DooderCount': 0, 'EnergyCount': 56, 'DirectionCounts': {}}\n",
      "{'CycleCount': 34, 'DooderCount': 0, 'EnergyCount': 53, 'DirectionCounts': {}}\n",
      "{'CycleCount': 35, 'DooderCount': 0, 'EnergyCount': 51, 'DirectionCounts': {}}\n",
      "{'CycleCount': 36, 'DooderCount': 0, 'EnergyCount': 53, 'DirectionCounts': {}}\n",
      "{'CycleCount': 37, 'DooderCount': 0, 'EnergyCount': 54, 'DirectionCounts': {}}\n",
      "{'CycleCount': 38, 'DooderCount': 0, 'EnergyCount': 56, 'DirectionCounts': {}}\n",
      "{'CycleCount': 39, 'DooderCount': 0, 'EnergyCount': 55, 'DirectionCounts': {}}\n",
      "{'CycleCount': 40, 'DooderCount': 0, 'EnergyCount': 51, 'DirectionCounts': {}}\n",
      "{'CycleCount': 41, 'DooderCount': 0, 'EnergyCount': 48, 'DirectionCounts': {}}\n",
      "{'CycleCount': 42, 'DooderCount': 0, 'EnergyCount': 53, 'DirectionCounts': {}}\n",
      "{'CycleCount': 43, 'DooderCount': 0, 'EnergyCount': 54, 'DirectionCounts': {}}\n",
      "{'CycleCount': 44, 'DooderCount': 0, 'EnergyCount': 53, 'DirectionCounts': {}}\n",
      "{'CycleCount': 45, 'DooderCount': 0, 'EnergyCount': 53, 'DirectionCounts': {}}\n",
      "{'CycleCount': 46, 'DooderCount': 0, 'EnergyCount': 52, 'DirectionCounts': {}}\n",
      "{'CycleCount': 47, 'DooderCount': 0, 'EnergyCount': 54, 'DirectionCounts': {}}\n",
      "{'CycleCount': 48, 'DooderCount': 0, 'EnergyCount': 57, 'DirectionCounts': {}}\n",
      "{'CycleCount': 49, 'DooderCount': 0, 'EnergyCount': 54, 'DirectionCounts': {}}\n",
      "{'CycleCount': 50, 'DooderCount': 0, 'EnergyCount': 51, 'DirectionCounts': {}}\n",
      "{'CycleCount': 51, 'DooderCount': 0, 'EnergyCount': 49, 'DirectionCounts': {}}\n",
      "{'CycleCount': 52, 'DooderCount': 0, 'EnergyCount': 53, 'DirectionCounts': {}}\n",
      "{'CycleCount': 53, 'DooderCount': 0, 'EnergyCount': 46, 'DirectionCounts': {}}\n",
      "{'CycleCount': 54, 'DooderCount': 0, 'EnergyCount': 47, 'DirectionCounts': {}}\n",
      "{'CycleCount': 55, 'DooderCount': 0, 'EnergyCount': 42, 'DirectionCounts': {}}\n",
      "{'CycleCount': 56, 'DooderCount': 0, 'EnergyCount': 39, 'DirectionCounts': {}}\n",
      "{'CycleCount': 57, 'DooderCount': 0, 'EnergyCount': 41, 'DirectionCounts': {}}\n",
      "{'CycleCount': 58, 'DooderCount': 0, 'EnergyCount': 47, 'DirectionCounts': {}}\n",
      "{'CycleCount': 59, 'DooderCount': 0, 'EnergyCount': 49, 'DirectionCounts': {}}\n",
      "{'CycleCount': 60, 'DooderCount': 0, 'EnergyCount': 41, 'DirectionCounts': {}}\n",
      "{'CycleCount': 61, 'DooderCount': 0, 'EnergyCount': 43, 'DirectionCounts': {}}\n",
      "{'CycleCount': 62, 'DooderCount': 0, 'EnergyCount': 47, 'DirectionCounts': {}}\n",
      "{'CycleCount': 63, 'DooderCount': 0, 'EnergyCount': 46, 'DirectionCounts': {}}\n",
      "{'CycleCount': 64, 'DooderCount': 0, 'EnergyCount': 45, 'DirectionCounts': {}}\n",
      "{'CycleCount': 65, 'DooderCount': 0, 'EnergyCount': 46, 'DirectionCounts': {}}\n",
      "{'CycleCount': 66, 'DooderCount': 0, 'EnergyCount': 45, 'DirectionCounts': {}}\n",
      "{'CycleCount': 67, 'DooderCount': 0, 'EnergyCount': 47, 'DirectionCounts': {}}\n",
      "{'CycleCount': 68, 'DooderCount': 0, 'EnergyCount': 47, 'DirectionCounts': {}}\n",
      "{'CycleCount': 69, 'DooderCount': 0, 'EnergyCount': 47, 'DirectionCounts': {}}\n",
      "{'CycleCount': 70, 'DooderCount': 0, 'EnergyCount': 47, 'DirectionCounts': {}}\n",
      "{'CycleCount': 71, 'DooderCount': 0, 'EnergyCount': 52, 'DirectionCounts': {}}\n",
      "{'CycleCount': 72, 'DooderCount': 0, 'EnergyCount': 48, 'DirectionCounts': {}}\n",
      "{'CycleCount': 73, 'DooderCount': 0, 'EnergyCount': 46, 'DirectionCounts': {}}\n",
      "{'CycleCount': 74, 'DooderCount': 0, 'EnergyCount': 45, 'DirectionCounts': {}}\n",
      "{'CycleCount': 75, 'DooderCount': 0, 'EnergyCount': 46, 'DirectionCounts': {}}\n",
      "{'CycleCount': 76, 'DooderCount': 0, 'EnergyCount': 47, 'DirectionCounts': {}}\n",
      "{'CycleCount': 77, 'DooderCount': 0, 'EnergyCount': 46, 'DirectionCounts': {}}\n",
      "{'CycleCount': 78, 'DooderCount': 0, 'EnergyCount': 48, 'DirectionCounts': {}}\n",
      "{'CycleCount': 79, 'DooderCount': 0, 'EnergyCount': 52, 'DirectionCounts': {}}\n",
      "{'CycleCount': 80, 'DooderCount': 0, 'EnergyCount': 49, 'DirectionCounts': {}}\n",
      "{'CycleCount': 81, 'DooderCount': 0, 'EnergyCount': 47, 'DirectionCounts': {}}\n",
      "{'CycleCount': 82, 'DooderCount': 0, 'EnergyCount': 45, 'DirectionCounts': {}}\n",
      "{'CycleCount': 83, 'DooderCount': 0, 'EnergyCount': 45, 'DirectionCounts': {}}\n",
      "{'CycleCount': 84, 'DooderCount': 0, 'EnergyCount': 43, 'DirectionCounts': {}}\n",
      "{'CycleCount': 85, 'DooderCount': 0, 'EnergyCount': 43, 'DirectionCounts': {}}\n",
      "{'CycleCount': 86, 'DooderCount': 0, 'EnergyCount': 47, 'DirectionCounts': {}}\n",
      "{'CycleCount': 87, 'DooderCount': 0, 'EnergyCount': 44, 'DirectionCounts': {}}\n",
      "{'CycleCount': 88, 'DooderCount': 0, 'EnergyCount': 49, 'DirectionCounts': {}}\n",
      "{'CycleCount': 89, 'DooderCount': 0, 'EnergyCount': 50, 'DirectionCounts': {}}\n",
      "{'CycleCount': 90, 'DooderCount': 0, 'EnergyCount': 48, 'DirectionCounts': {}}\n",
      "{'CycleCount': 91, 'DooderCount': 0, 'EnergyCount': 48, 'DirectionCounts': {}}\n",
      "{'CycleCount': 92, 'DooderCount': 0, 'EnergyCount': 49, 'DirectionCounts': {}}\n",
      "{'CycleCount': 93, 'DooderCount': 0, 'EnergyCount': 48, 'DirectionCounts': {}}\n",
      "{'CycleCount': 94, 'DooderCount': 0, 'EnergyCount': 48, 'DirectionCounts': {}}\n",
      "{'CycleCount': 95, 'DooderCount': 0, 'EnergyCount': 51, 'DirectionCounts': {}}\n",
      "{'CycleCount': 96, 'DooderCount': 0, 'EnergyCount': 54, 'DirectionCounts': {}}\n",
      "{'CycleCount': 97, 'DooderCount': 0, 'EnergyCount': 50, 'DirectionCounts': {}}\n",
      "{'CycleCount': 98, 'DooderCount': 0, 'EnergyCount': 50, 'DirectionCounts': {}}\n",
      "{'CycleCount': 99, 'DooderCount': 0, 'EnergyCount': 50, 'DirectionCounts': {}}\n",
      "{'CycleCount': 100, 'DooderCount': 0, 'EnergyCount': 49, 'DirectionCounts': {}}\n"
     ]
    }
   ],
   "source": [
    "# experiment.simulation.step()\n",
    "experiment.simulation.run_simulation()\n",
    "# experiment.simulation.setup()\n",
    "# experiment.simulation.cycle()\n",
    "# for i in range(10):\n",
    "#     experiment.simulation.cycle()"
   ]
  },
  {
   "cell_type": "code",
   "execution_count": 4,
   "id": "6010846f",
   "metadata": {
    "ExecuteTime": {
     "end_time": "2022-08-27T03:49:32.881049Z",
     "start_time": "2022-08-27T03:49:32.866807Z"
    }
   },
   "outputs": [],
   "source": [
    "results = experiment.simulation.get_results()"
   ]
  },
  {
   "cell_type": "code",
   "execution_count": 5,
   "id": "17dad1b4",
   "metadata": {
    "ExecuteTime": {
     "end_time": "2022-08-27T03:49:32.897113Z",
     "start_time": "2022-08-27T03:49:32.882080Z"
    }
   },
   "outputs": [
    {
     "data": {
      "text/plain": [
       "{'CycleCount': 100, 'DooderCount': 0, 'EnergyCount': 49, 'DirectionCounts': {}}"
      ]
     },
     "execution_count": 5,
     "metadata": {},
     "output_type": "execute_result"
    }
   ],
   "source": [
    "results"
   ]
  },
  {
   "cell_type": "code",
   "execution_count": 6,
   "id": "cbc7b258",
   "metadata": {
    "ExecuteTime": {
     "end_time": "2022-08-27T03:49:32.913115Z",
     "start_time": "2022-08-27T03:49:32.898085Z"
    }
   },
   "outputs": [
    {
     "data": {
      "text/html": [
       "<div>\n",
       "<style scoped>\n",
       "    .dataframe tbody tr th:only-of-type {\n",
       "        vertical-align: middle;\n",
       "    }\n",
       "\n",
       "    .dataframe tbody tr th {\n",
       "        vertical-align: top;\n",
       "    }\n",
       "\n",
       "    .dataframe thead th {\n",
       "        text-align: right;\n",
       "    }\n",
       "</style>\n",
       "<table border=\"1\" class=\"dataframe\">\n",
       "  <thead>\n",
       "    <tr style=\"text-align: right;\">\n",
       "      <th></th>\n",
       "      <th>DooderCount</th>\n",
       "      <th>EnergyCount</th>\n",
       "      <th>DirectionCounts</th>\n",
       "    </tr>\n",
       "  </thead>\n",
       "  <tbody>\n",
       "    <tr>\n",
       "      <th>0</th>\n",
       "      <td>10</td>\n",
       "      <td>10</td>\n",
       "      <td>{'Origin': 10}</td>\n",
       "    </tr>\n",
       "    <tr>\n",
       "      <th>1</th>\n",
       "      <td>10</td>\n",
       "      <td>20</td>\n",
       "      <td>{'N': 1, 'None': 7, 'S': 1, 'W': 1}</td>\n",
       "    </tr>\n",
       "    <tr>\n",
       "      <th>2</th>\n",
       "      <td>10</td>\n",
       "      <td>26</td>\n",
       "      <td>{'SW': 1, 'None': 5, 'E': 2, 'NE': 1, 'SE': 1}</td>\n",
       "    </tr>\n",
       "    <tr>\n",
       "      <th>3</th>\n",
       "      <td>10</td>\n",
       "      <td>28</td>\n",
       "      <td>{'SE': 2, 'N': 2, 'None': 5, 'NW': 1}</td>\n",
       "    </tr>\n",
       "    <tr>\n",
       "      <th>4</th>\n",
       "      <td>10</td>\n",
       "      <td>36</td>\n",
       "      <td>{'None': 6, 'N': 2, 'SE': 1, 'W': 1}</td>\n",
       "    </tr>\n",
       "    <tr>\n",
       "      <th>5</th>\n",
       "      <td>10</td>\n",
       "      <td>38</td>\n",
       "      <td>{'SW': 1, 'NE': 2, 'N': 2, 'None': 3, 'SE': 1,...</td>\n",
       "    </tr>\n",
       "    <tr>\n",
       "      <th>6</th>\n",
       "      <td>8</td>\n",
       "      <td>44</td>\n",
       "      <td>{'None': 3, 'NW': 2, 'W': 2, 'SW': 1}</td>\n",
       "    </tr>\n",
       "    <tr>\n",
       "      <th>7</th>\n",
       "      <td>7</td>\n",
       "      <td>40</td>\n",
       "      <td>{'NE': 1, 'None': 5, 'S': 1}</td>\n",
       "    </tr>\n",
       "    <tr>\n",
       "      <th>8</th>\n",
       "      <td>6</td>\n",
       "      <td>40</td>\n",
       "      <td>{'SE': 1, 'None': 5}</td>\n",
       "    </tr>\n",
       "    <tr>\n",
       "      <th>9</th>\n",
       "      <td>5</td>\n",
       "      <td>38</td>\n",
       "      <td>{'None': 2, 'N': 1, 'NE': 1, 'E': 1}</td>\n",
       "    </tr>\n",
       "  </tbody>\n",
       "</table>\n",
       "</div>"
      ],
      "text/plain": [
       "   DooderCount  EnergyCount                                    DirectionCounts\n",
       "0           10           10                                     {'Origin': 10}\n",
       "1           10           20                {'N': 1, 'None': 7, 'S': 1, 'W': 1}\n",
       "2           10           26     {'SW': 1, 'None': 5, 'E': 2, 'NE': 1, 'SE': 1}\n",
       "3           10           28              {'SE': 2, 'N': 2, 'None': 5, 'NW': 1}\n",
       "4           10           36               {'None': 6, 'N': 2, 'SE': 1, 'W': 1}\n",
       "5           10           38  {'SW': 1, 'NE': 2, 'N': 2, 'None': 3, 'SE': 1,...\n",
       "6            8           44              {'None': 3, 'NW': 2, 'W': 2, 'SW': 1}\n",
       "7            7           40                       {'NE': 1, 'None': 5, 'S': 1}\n",
       "8            6           40                               {'SE': 1, 'None': 5}\n",
       "9            5           38               {'None': 2, 'N': 1, 'NE': 1, 'E': 1}"
      ]
     },
     "execution_count": 6,
     "metadata": {},
     "output_type": "execute_result"
    }
   ],
   "source": [
    "experiment.simulation.information.get_dataframe('Simulation').head(10)"
   ]
  },
  {
   "cell_type": "code",
   "execution_count": 7,
   "id": "47d945b8",
   "metadata": {
    "ExecuteTime": {
     "end_time": "2022-08-27T03:49:32.929058Z",
     "start_time": "2022-08-27T03:49:32.919094Z"
    }
   },
   "outputs": [
    {
     "data": {
      "text/plain": [
       "[]"
      ]
     },
     "execution_count": 7,
     "metadata": {},
     "output_type": "execute_result"
    }
   ],
   "source": [
    "experiment.simulation.environment.get_objects(Dooder)"
   ]
  },
  {
   "cell_type": "code",
   "execution_count": 8,
   "id": "c107fcab",
   "metadata": {
    "ExecuteTime": {
     "end_time": "2022-08-27T03:49:32.944114Z",
     "start_time": "2022-08-27T03:49:32.931056Z"
    }
   },
   "outputs": [
    {
     "data": {
      "text/plain": [
       "0"
      ]
     },
     "execution_count": 8,
     "metadata": {},
     "output_type": "execute_result"
    }
   ],
   "source": [
    "len(experiment.simulation.environment.get_objects(Dooder))"
   ]
  },
  {
   "cell_type": "code",
   "execution_count": 9,
   "id": "5847e2a4",
   "metadata": {
    "ExecuteTime": {
     "end_time": "2022-08-27T03:49:32.960088Z",
     "start_time": "2022-08-27T03:49:32.945053Z"
    },
    "scrolled": false
   },
   "outputs": [
    {
     "name": "stdout",
     "output_type": "stream",
     "text": [
      "{'timestamp': '2022-08-26 20:49:32,826', 'experiment_id':'Fiw2WgHG26Zp8b6FQG4baA', 'scope': 'Dooder', 'id': 'kjF5bRrQujzhppPVW8fZxd', 'cycle_number': 8, 'granularity': 2, 'message': 'Consumed energy: TNaJsgbcpo2jVKx7k7iQAh'},\n",
      "\n",
      "{'timestamp': '2022-08-26 20:49:32,826', 'experiment_id':'Fiw2WgHG26Zp8b6FQG4baA', 'scope': 'Dooder', 'id': '7UhUbSXir7PDjWgcZL5Xw2', 'cycle_number': 8, 'granularity': 2, 'message': 'Moved NE from (5, 0) to (6, 1)'},\n",
      "\n",
      "{'timestamp': '2022-08-26 20:49:32,827', 'experiment_id':'Fiw2WgHG26Zp8b6FQG4baA', 'scope': 'Dooder', 'id': 'ZQwGB7vnCWWjGnCuXadExE', 'cycle_number': 9, 'granularity': 2, 'message': 'Moved SW from (2, 1) to (1, 0)'},\n",
      "\n",
      "{'timestamp': '2022-08-26 20:49:32,827', 'experiment_id':'Fiw2WgHG26Zp8b6FQG4baA', 'scope': 'Dooder', 'id': '7UhUbSXir7PDjWgcZL5Xw2', 'cycle_number': 9, 'granularity': 1, 'message': 'Died from lack of energy'},\n",
      "\n",
      "{'timestamp': '2022-08-26 20:49:32,827', 'experiment_id':'Fiw2WgHG26Zp8b6FQG4baA', 'scope': 'Dooder', 'id': 'kjF5bRrQujzhppPVW8fZxd', 'cycle_number': 9, 'granularity': 2, 'message': 'Moved NW from (4, 2) to (3, 3)'},\n",
      "\n",
      "{'timestamp': '2022-08-26 20:49:32,827', 'experiment_id':'Fiw2WgHG26Zp8b6FQG4baA', 'scope': 'Dooder', 'id': '2RnHYgb9aMGTnZgsyR9pVq', 'cycle_number': 9, 'granularity': 2, 'message': 'Consumed energy: UAcheXAEU92e3cYoqVChQV'},\n",
      "\n",
      "{'timestamp': '2022-08-26 20:49:32,828', 'experiment_id':'Fiw2WgHG26Zp8b6FQG4baA', 'scope': 'Dooder', 'id': 'kjF5bRrQujzhppPVW8fZxd', 'cycle_number': 10, 'granularity': 2, 'message': 'Consumed energy: PubjEULUVWSNQkBcnGmfrA'},\n",
      "\n",
      "{'timestamp': '2022-08-26 20:49:32,828', 'experiment_id':'Fiw2WgHG26Zp8b6FQG4baA', 'scope': 'Dooder', 'id': 'ZQwGB7vnCWWjGnCuXadExE', 'cycle_number': 10, 'granularity': 2, 'message': 'Consumed energy: e8GfNpcpbpZZmcAFeqGoHj'},\n",
      "\n",
      "{'timestamp': '2022-08-26 20:49:32,828', 'experiment_id':'Fiw2WgHG26Zp8b6FQG4baA', 'scope': 'Dooder', 'id': 'ZQwGB7vnCWWjGnCuXadExE', 'cycle_number': 10, 'granularity': 2, 'message': 'Moved NE from (1, 0) to (2, 1)'},\n",
      "\n",
      "{'timestamp': '2022-08-26 20:49:32,829', 'experiment_id':'Fiw2WgHG26Zp8b6FQG4baA', 'scope': 'Dooder', 'id': 'ZQwGB7vnCWWjGnCuXadExE', 'cycle_number': 11, 'granularity': 2, 'message': 'Consumed energy: DJi4ZGVeBuBiiPRkRSLFvW'},\n",
      "\n",
      "{'timestamp': '2022-08-26 20:49:32,829', 'experiment_id':'Fiw2WgHG26Zp8b6FQG4baA', 'scope': 'Dooder', 'id': '2RnHYgb9aMGTnZgsyR9pVq', 'cycle_number': 12, 'granularity': 2, 'message': 'Moved SW from (8, 9) to (7, 8)'},\n",
      "\n",
      "{'timestamp': '2022-08-26 20:49:32,829', 'experiment_id':'Fiw2WgHG26Zp8b6FQG4baA', 'scope': 'Dooder', 'id': 'kjF5bRrQujzhppPVW8fZxd', 'cycle_number': 12, 'granularity': 2, 'message': 'Moved SE from (3, 3) to (4, 2)'},\n",
      "\n",
      "{'timestamp': '2022-08-26 20:49:32,829', 'experiment_id':'Fiw2WgHG26Zp8b6FQG4baA', 'scope': 'Dooder', 'id': 'ZQwGB7vnCWWjGnCuXadExE', 'cycle_number': 12, 'granularity': 1, 'message': 'Died from lack of energy'},\n",
      "\n",
      "{'timestamp': '2022-08-26 20:49:32,830', 'experiment_id':'Fiw2WgHG26Zp8b6FQG4baA', 'scope': 'Dooder', 'id': 'Q8Xnpc5nrfNekq9xmVYV65', 'cycle_number': 12, 'granularity': 1, 'message': 'Died from lack of energy'},\n",
      "\n",
      "{'timestamp': '2022-08-26 20:49:32,830', 'experiment_id':'Fiw2WgHG26Zp8b6FQG4baA', 'scope': 'Dooder', 'id': '2RnHYgb9aMGTnZgsyR9pVq', 'cycle_number': 13, 'granularity': 2, 'message': 'Consumed energy: mkYTFbbo4UbX8RT8cP7yBT'},\n",
      "\n",
      "{'timestamp': '2022-08-26 20:49:32,830', 'experiment_id':'Fiw2WgHG26Zp8b6FQG4baA', 'scope': 'Dooder', 'id': '2RnHYgb9aMGTnZgsyR9pVq', 'cycle_number': 13, 'granularity': 2, 'message': 'Moved S from (7, 8) to (7, 7)'},\n",
      "\n",
      "{'timestamp': '2022-08-26 20:49:32,831', 'experiment_id':'Fiw2WgHG26Zp8b6FQG4baA', 'scope': 'Dooder', 'id': '2RnHYgb9aMGTnZgsyR9pVq', 'cycle_number': 14, 'granularity': 2, 'message': 'Moved SW from (7, 7) to (6, 6)'},\n",
      "\n",
      "{'timestamp': '2022-08-26 20:49:32,831', 'experiment_id':'Fiw2WgHG26Zp8b6FQG4baA', 'scope': 'Dooder', 'id': '2RnHYgb9aMGTnZgsyR9pVq', 'cycle_number': 15, 'granularity': 1, 'message': 'Died from lack of energy'},\n",
      "\n",
      "{'timestamp': '2022-08-26 20:49:32,833', 'experiment_id':'Fiw2WgHG26Zp8b6FQG4baA', 'scope': 'Dooder', 'id': 'kjF5bRrQujzhppPVW8fZxd', 'cycle_number': 19, 'granularity': 2, 'message': 'Moved N from (4, 2) to (4, 2)'},\n",
      "\n",
      "{'timestamp': '2022-08-26 20:49:32,834', 'experiment_id':'Fiw2WgHG26Zp8b6FQG4baA', 'scope': 'Dooder', 'id': 'kjF5bRrQujzhppPVW8fZxd', 'cycle_number': 20, 'granularity': 1, 'message': 'Died from lack of energy'},\n",
      "\n"
     ]
    }
   ],
   "source": [
    "experiment.get_log() # make the log file remove records at some point"
   ]
  },
  {
   "cell_type": "code",
   "execution_count": 10,
   "id": "e3270651",
   "metadata": {
    "ExecuteTime": {
     "end_time": "2022-08-27T03:49:32.975116Z",
     "start_time": "2022-08-27T03:49:32.961092Z"
    }
   },
   "outputs": [
    {
     "data": {
      "text/plain": [
       "'Not Found'"
      ]
     },
     "execution_count": 10,
     "metadata": {},
     "output_type": "execute_result"
    }
   ],
   "source": [
    "experiment.get_dooder('TYFDPe83FUtkGacrMBTpWa') # fix"
   ]
  },
  {
   "cell_type": "code",
   "execution_count": 11,
   "id": "fd597285",
   "metadata": {
    "ExecuteTime": {
     "end_time": "2022-08-27T03:49:32.991096Z",
     "start_time": "2022-08-27T03:49:32.976082Z"
    }
   },
   "outputs": [
    {
     "data": {
      "text/plain": [
       "'Not Found'"
      ]
     },
     "execution_count": 11,
     "metadata": {},
     "output_type": "execute_result"
    }
   ],
   "source": [
    "experiment.get_energy('TYFDPe83FUtkGacrMBTpWa') # fix"
   ]
  },
  {
   "cell_type": "code",
   "execution_count": 12,
   "id": "6dfbc7d6",
   "metadata": {
    "ExecuteTime": {
     "end_time": "2022-08-27T03:49:33.006083Z",
     "start_time": "2022-08-27T03:49:32.993057Z"
    }
   },
   "outputs": [],
   "source": [
    "d = experiment.get_dooder('DzTBhqQMFbCmofLUKRBKGd')"
   ]
  },
  {
   "cell_type": "code",
   "execution_count": 13,
   "id": "5713d79b",
   "metadata": {
    "ExecuteTime": {
     "end_time": "2022-08-27T03:49:33.022079Z",
     "start_time": "2022-08-27T03:49:33.008082Z"
    }
   },
   "outputs": [
    {
     "data": {
      "text/plain": [
       "'Not Found'"
      ]
     },
     "execution_count": 13,
     "metadata": {},
     "output_type": "execute_result"
    }
   ],
   "source": [
    "d"
   ]
  },
  {
   "cell_type": "code",
   "execution_count": 14,
   "id": "970ae3bb",
   "metadata": {
    "ExecuteTime": {
     "end_time": "2022-08-27T03:49:33.037082Z",
     "start_time": "2022-08-27T03:49:33.023092Z"
    }
   },
   "outputs": [
    {
     "data": {
      "text/plain": [
       "0"
      ]
     },
     "execution_count": 14,
     "metadata": {},
     "output_type": "execute_result"
    }
   ],
   "source": [
    "experiment.simulation.information.collectors['Simulation']['DooderCount'](experiment.simulation)"
   ]
  },
  {
   "cell_type": "code",
   "execution_count": 15,
   "id": "068e9e32",
   "metadata": {
    "ExecuteTime": {
     "end_time": "2022-08-27T03:49:33.052113Z",
     "start_time": "2022-08-27T03:49:33.038054Z"
    }
   },
   "outputs": [
    {
     "data": {
      "text/plain": [
       "49"
      ]
     },
     "execution_count": 15,
     "metadata": {},
     "output_type": "execute_result"
    }
   ],
   "source": [
    "experiment.simulation.time.get_object_count('Energy')"
   ]
  },
  {
   "cell_type": "code",
   "execution_count": 16,
   "id": "e393dc6b",
   "metadata": {
    "ExecuteTime": {
     "end_time": "2022-08-27T03:49:33.083130Z",
     "start_time": "2022-08-27T03:49:33.057115Z"
    }
   },
   "outputs": [
    {
     "data": {
      "text/plain": [
       "defaultdict(dict,\n",
       "            {'Dooder': {},\n",
       "             'Energy': {'HP4HA9tSkLa4JpA4TXU47A': <sdk.environment.energy.Energy at 0x1cac67f9388>,\n",
       "              '65dVURd5DsNGwu3skiQDs3': <sdk.environment.energy.Energy at 0x1cac9bdd948>,\n",
       "              'F8yNHNGnfgowbLVLxtBoP2': <sdk.environment.energy.Energy at 0x1cac9bf0108>,\n",
       "              'Qaaxtcjt5VypA2ZXTJfwPU': <sdk.environment.energy.Energy at 0x1cac9be7ec8>,\n",
       "              'ZCj5GmRXTHM632PzYyXKcs': <sdk.environment.energy.Energy at 0x1cac9be79c8>,\n",
       "              'XXFDVDSL3r2yw4geFSbwFx': <sdk.environment.energy.Energy at 0x1cac9be4b88>,\n",
       "              '5Y9jAKtmerSzmFeqQJ4mKT': <sdk.environment.energy.Energy at 0x1cac9be7c88>,\n",
       "              'mn5Jo35eHpGQTtnrjmfpBF': <sdk.environment.energy.Energy at 0x1cac9be4f48>,\n",
       "              'SL8A6iMCG2MeU7gqBmZhnU': <sdk.environment.energy.Energy at 0x1cac682a388>,\n",
       "              'PSkLAv5LEhkStjMThiooFR': <sdk.environment.energy.Energy at 0x1cac9bf0688>,\n",
       "              'ESMzVanDPH74LmpZNvCv7g': <sdk.environment.energy.Energy at 0x1cac9bcd888>,\n",
       "              'P7GziS6fA36NTAtDyjhAPh': <sdk.environment.energy.Energy at 0x1cac9bcd808>,\n",
       "              'QPdmTpZiskfqqvPuGSEPhT': <sdk.environment.energy.Energy at 0x1cac9be7748>,\n",
       "              '2CLK6FNjWZnayGHzHUqYud': <sdk.environment.energy.Energy at 0x1cac9bf0708>,\n",
       "              'kzt3obmrx8hYC3QDWMqyuS': <sdk.environment.energy.Energy at 0x1cac9bf0748>,\n",
       "              'UeeuAV6w8WcxeXYUJoQXa8': <sdk.environment.energy.Energy at 0x1cac9bf0788>,\n",
       "              '7hpuV9BD3ZmRDFLNLJxxk3': <sdk.environment.energy.Energy at 0x1cac9bf07c8>,\n",
       "              'WFnJsZKGyDQejbZSHVXtgw': <sdk.environment.energy.Energy at 0x1cac9bf0808>,\n",
       "              'M6ciSBv8e4AtvYeDcZcAtG': <sdk.environment.energy.Energy at 0x1cac9bcd7c8>,\n",
       "              '2LpHufnP5Y4WHLqp26sQ9n': <sdk.environment.energy.Energy at 0x1cac68aa488>,\n",
       "              'HYCbSo57Nvk4LukLzN2CPG': <sdk.environment.energy.Energy at 0x1cac9be4648>,\n",
       "              'P3DyiEsKH5EBzGgTNPQrXV': <sdk.environment.energy.Energy at 0x1cac9be7e08>,\n",
       "              'CcrqGZxnehpFo8NfJRhLms': <sdk.environment.energy.Energy at 0x1cac9bf0988>,\n",
       "              'oJ33NnYRG5XexRmTcpB74g': <sdk.environment.energy.Energy at 0x1cac9be4b08>,\n",
       "              '9K4ydQiQBT2QqBsDdSDU8s': <sdk.environment.energy.Energy at 0x1cac9bd1108>,\n",
       "              'XBA5PCKhdePpDGG3qQzRrp': <sdk.environment.energy.Energy at 0x1cac68aa5c8>,\n",
       "              'BcaSgeYftn9nkHMdqESfUb': <sdk.environment.energy.Energy at 0x1cac9be4f88>,\n",
       "              'KewAaChmFf3wnHM9QVry8L': <sdk.environment.energy.Energy at 0x1cac9be7dc8>,\n",
       "              'VZbFjsUBATo4nAE3CKYvbU': <sdk.environment.energy.Energy at 0x1cac9be7688>,\n",
       "              'ZyomaRvW6eRhA9uxfz3dfq': <sdk.environment.energy.Energy at 0x1cac8f572c8>,\n",
       "              'TyRgZTnL8oaQ55Ts3B8jB8': <sdk.environment.energy.Energy at 0x1cac9be7c08>,\n",
       "              'RL5Hucb2ePEk9tdDsDmy78': <sdk.environment.energy.Energy at 0x1cac9be4e48>,\n",
       "              'PcdJNEfxqPQsCAicceUWtX': <sdk.environment.energy.Energy at 0x1cac9be7f88>,\n",
       "              '6pu5A2n7Ec4uVPBQtnZTT4': <sdk.environment.energy.Energy at 0x1cac9be1c48>,\n",
       "              'kNfRWuXAoyDPrDVEcG9jeV': <sdk.environment.energy.Energy at 0x1cac9bdd908>,\n",
       "              'efoukqafPVwYZwsPjCjadf': <sdk.environment.energy.Energy at 0x1cac9be1cc8>,\n",
       "              'b9ZAkD8ywL4QGdhSgQCM7Q': <sdk.environment.energy.Energy at 0x1cac9bf0a08>,\n",
       "              'i3yUXfDsDitwNZ4cvVvJfC': <sdk.environment.energy.Energy at 0x1cac9bf0308>,\n",
       "              'oKiMY7zvK2ezzsPj5KEkuR': <sdk.environment.energy.Energy at 0x1cac9bf0208>,\n",
       "              '6zrMuddXX6mTTRtLY63t4U': <sdk.environment.energy.Energy at 0x1cac9be4188>,\n",
       "              '7dZbreT8jXcPX8fuZbfbsn': <sdk.environment.energy.Energy at 0x1cac9bcdb08>,\n",
       "              'KR4m8cfcmZEQgDiERMtSoQ': <sdk.environment.energy.Energy at 0x1cac9be7fc8>,\n",
       "              '9tZWqcjTL2FmnVaj4Hoipq': <sdk.environment.energy.Energy at 0x1cac9be74c8>,\n",
       "              'TzFo9jviWXjWGmByENnjdv': <sdk.environment.energy.Energy at 0x1cac9bf0348>,\n",
       "              'C4qG3Ev5yiYAARPEWs3UFn': <sdk.environment.energy.Energy at 0x1cac9bf03c8>,\n",
       "              'PUqxm8ZrLXz2EEXZ4Pg3r6': <sdk.environment.energy.Energy at 0x1cac9bf0188>,\n",
       "              'RQqVbFJMYbBGnjqgchuB2W': <sdk.environment.energy.Energy at 0x1cac9bf0448>,\n",
       "              '6bXNAn36NJHQb2K9SExLSp': <sdk.environment.energy.Energy at 0x1cac9bf05c8>,\n",
       "              'hGP7yUG4CZaw8PbY63GqcV': <sdk.environment.energy.Energy at 0x1cac9bf0388>}})"
      ]
     },
     "execution_count": 16,
     "metadata": {},
     "output_type": "execute_result"
    }
   ],
   "source": [
    "experiment.simulation.time._objects"
   ]
  },
  {
   "cell_type": "code",
   "execution_count": 17,
   "id": "37ddbdbe",
   "metadata": {
    "ExecuteTime": {
     "end_time": "2022-08-27T03:49:33.099052Z",
     "start_time": "2022-08-27T03:49:33.087059Z"
    }
   },
   "outputs": [],
   "source": [
    "results = {}\n",
    "results['CycleCount'] = experiment.simulation.time.time\n",
    "\n",
    "for component, values in experiment.simulation.information.data.items():\n",
    "    for column, value in values.items():\n",
    "        results[column] = value[-1]"
   ]
  },
  {
   "cell_type": "code",
   "execution_count": 18,
   "id": "ed32c520",
   "metadata": {
    "ExecuteTime": {
     "end_time": "2022-08-27T03:49:33.115054Z",
     "start_time": "2022-08-27T03:49:33.100057Z"
    }
   },
   "outputs": [
    {
     "data": {
      "text/plain": [
       "{'CycleCount': 100, 'DooderCount': 0, 'EnergyCount': 49, 'DirectionCounts': {}}"
      ]
     },
     "execution_count": 18,
     "metadata": {},
     "output_type": "execute_result"
    }
   ],
   "source": [
    "results"
   ]
  },
  {
   "cell_type": "code",
   "execution_count": 19,
   "id": "a6b89d69",
   "metadata": {
    "ExecuteTime": {
     "end_time": "2022-08-27T03:49:33.131097Z",
     "start_time": "2022-08-27T03:49:33.116053Z"
    }
   },
   "outputs": [],
   "source": [
    "dooders = experiment.simulation.time.get_objects('Dooder')\n",
    "    \n",
    "from collections import Counter\n",
    "direction_list = [dooder.direction for dooder in dooders]\n",
    "direction_counts = Counter(direction_list)"
   ]
  },
  {
   "cell_type": "code",
   "execution_count": 20,
   "id": "589b6d14",
   "metadata": {
    "ExecuteTime": {
     "end_time": "2022-08-27T03:49:33.146086Z",
     "start_time": "2022-08-27T03:49:33.135058Z"
    }
   },
   "outputs": [
    {
     "data": {
      "text/plain": [
       "[]"
      ]
     },
     "execution_count": 20,
     "metadata": {},
     "output_type": "execute_result"
    }
   ],
   "source": [
    "direction_list"
   ]
  },
  {
   "cell_type": "code",
   "execution_count": 21,
   "id": "72bbd84d",
   "metadata": {
    "ExecuteTime": {
     "end_time": "2022-08-27T03:49:33.162080Z",
     "start_time": "2022-08-27T03:49:33.147094Z"
    }
   },
   "outputs": [
    {
     "data": {
      "text/plain": [
       "{}"
      ]
     },
     "execution_count": 21,
     "metadata": {},
     "output_type": "execute_result"
    }
   ],
   "source": [
    "dict(direction_counts)"
   ]
  },
  {
   "cell_type": "code",
   "execution_count": null,
   "id": "fcda4402",
   "metadata": {},
   "outputs": [],
   "source": []
  }
 ],
 "metadata": {
  "kernelspec": {
   "display_name": "Python 3",
   "language": "python",
   "name": "python3"
  },
  "language_info": {
   "codemirror_mode": {
    "name": "ipython",
    "version": 3
   },
   "file_extension": ".py",
   "mimetype": "text/x-python",
   "name": "python",
   "nbconvert_exporter": "python",
   "pygments_lexer": "ipython3",
   "version": "3.7.13"
  },
  "toc": {
   "base_numbering": 1,
   "nav_menu": {},
   "number_sections": true,
   "sideBar": true,
   "skip_h1_title": false,
   "title_cell": "Table of Contents",
   "title_sidebar": "Contents",
   "toc_cell": false,
   "toc_position": {},
   "toc_section_display": true,
   "toc_window_display": false
  }
 },
 "nbformat": 4,
 "nbformat_minor": 5
}
