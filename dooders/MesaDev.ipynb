{
 "cells": [
  {
   "cell_type": "code",
   "execution_count": 1,
   "metadata": {
    "ExecuteTime": {
     "end_time": "2022-07-12T03:13:42.322277Z",
     "start_time": "2022-07-12T03:13:40.312756Z"
    }
   },
   "outputs": [],
   "source": [
    "import mesa\n",
    "from mesa import Model\n",
    "from mesa.datacollection import DataCollector\n",
    "from mesa.space import MultiGrid\n",
    "from mesa.time import RandomActivation\n",
    "from random import randrange, choices, sample\n",
    "import random"
   ]
  },
  {
   "cell_type": "markdown",
   "metadata": {},
   "source": [
    "# Functions"
   ]
  },
  {
   "cell_type": "code",
   "execution_count": 2,
   "metadata": {
    "ExecuteTime": {
     "end_time": "2022-07-12T03:13:42.353786Z",
     "start_time": "2022-07-12T03:13:42.325280Z"
    }
   },
   "outputs": [],
   "source": [
    "def generate_probability():\n",
    "    return randrange(100)\n",
    "\n",
    "def generate_weights():\n",
    "    pass\n",
    "\n",
    "def generate_score():\n",
    "    return randrange(100)\n",
    "\n",
    "def generate_distribution(n, total):\n",
    "    dividers = sorted(sample(range(1, total), n - 1))\n",
    "    return [a - b for a, b in zip(dividers + [total], [0] + dividers)]\n",
    "\n",
    "\n",
    "\n",
    "class Behavior:\n",
    "    ActionSuccessProbability = generate_probability()\n",
    "    TakeActionProbability = generate_probability()\n",
    "    ActionSelectionWeights = generate_weights()\n",
    "    MakeMoveProbability = generate_probability()\n",
    "    BreedSuccessProbability = generate_probability()\n",
    "    BreedActionProbability = generate_probability()\n",
    "    MoveDirectionDistribution = generate_distribution(9, 100)\n",
    "    AwarenessScore = generate_score()\n",
    "    ActionOrderDistribution = generate_distribution(3, 100)\n",
    "    ActionPrivilegeScore = generate_score()\n",
    "    HappinessScore = generate_score()\n",
    "    EnvironmentScore = generate_score()\n",
    "    \n",
    "    def fate(self, weight):\n",
    "        fate_list = [True, False]\n",
    "        weight_var = (weight, 100-weight)\n",
    "\n",
    "        return random.choices(fate_list, weights=weight_var, k=len(fate_list))[0]"
   ]
  },
  {
   "cell_type": "code",
   "execution_count": 3,
   "metadata": {
    "ExecuteTime": {
     "end_time": "2022-07-12T03:13:42.385273Z",
     "start_time": "2022-07-12T03:13:42.359283Z"
    }
   },
   "outputs": [],
   "source": [
    "class RandomWalker(mesa.Agent):\n",
    "    \"\"\"\n",
    "    Class implementing random walker methods in a generalized manner.\n",
    "    Not intended to be used on its own, but to inherit its methods to multiple\n",
    "    other agents.\n",
    "    \"\"\"\n",
    "\n",
    "    grid = None\n",
    "    x = None\n",
    "    y = None\n",
    "    moore = True\n",
    "\n",
    "    def __init__(self, unique_id, pos, model, moore=True):\n",
    "        \"\"\"\n",
    "        grid: The MultiGrid object in which the agent lives.\n",
    "        x: The agent's current x coordinate\n",
    "        y: The agent's current y coordinate\n",
    "        moore: If True, may move in all 8 directions.\n",
    "                Otherwise, only up, down, left, right.\n",
    "        \"\"\"\n",
    "        super().__init__(unique_id, model)\n",
    "        self.pos = pos\n",
    "        self.moore = moore\n",
    "\n",
    "    def random_move(self):\n",
    "        \"\"\"\n",
    "        Step one cell in any allowable direction.\n",
    "        \"\"\"\n",
    "        # Pick the next cell from the adjacent cells.\n",
    "        next_moves = self.model.grid.get_neighborhood(\n",
    "            self.pos, self.moore, True)\n",
    "\n",
    "        # move check\n",
    "        if len(next_moves) > 0:\n",
    "\n",
    "            if self.behavior.fate(self.behavior.MakeMoveProbability):\n",
    "                next_move = self.random.choices(\n",
    "                    next_moves, weights=self.behavior.MoveDirectionDistribution, k=1)[0]\n",
    "                self.model.grid.move_agent(self, next_move)\n",
    "\n",
    "            else:\n",
    "                pass\n",
    "\n",
    "        else:\n",
    "            self.model.grid.remove_agent(self)\n",
    "            self.model.schedule.remove(self)"
   ]
  },
  {
   "cell_type": "code",
   "execution_count": 4,
   "metadata": {
    "ExecuteTime": {
     "end_time": "2022-07-12T03:13:42.401278Z",
     "start_time": "2022-07-12T03:13:42.388281Z"
    }
   },
   "outputs": [],
   "source": [
    "class Dooder(RandomWalker):\n",
    "    \"\"\"\n",
    "    \"\"\"\n",
    "    def __init__(self, unique_id, pos, model):\n",
    "        super().__init__(unique_id, pos, model)\n",
    "        self.behavior = Behavior()\n",
    "    \n",
    "    def kill(self, agent):\n",
    "        self.model.grid.remove_agent(agent)\n",
    "        self.model.schedule.remove(agent)\n",
    "\n",
    "    def die(self):\n",
    "        self.model.grid.remove_agent(self)\n",
    "        self.model.schedule.remove(self)\n",
    "\n",
    "    def step(self):\n",
    "        # move --> action\n",
    "        print(self.unique_id)\n",
    "        self.random_move()"
   ]
  },
  {
   "cell_type": "code",
   "execution_count": 35,
   "metadata": {
    "ExecuteTime": {
     "end_time": "2022-07-12T03:19:27.195814Z",
     "start_time": "2022-07-12T03:19:27.167810Z"
    }
   },
   "outputs": [],
   "source": [
    "class Simulation(Model):\n",
    "    \"\"\"\n",
    "    Wolf-Sheep Predation Model\n",
    "    \"\"\"\n",
    "\n",
    "    height = 20\n",
    "    width = 20\n",
    "\n",
    "    initial_agents = 10\n",
    "    verbose = True  # Print-monitoring\n",
    "\n",
    "    description = (\n",
    "        \"A model for simulating wolf and sheep (predator-prey) ecosystem modelling.\"\n",
    "    )\n",
    "\n",
    "    def __init__(\n",
    "        self,\n",
    "        width=20,\n",
    "        height=20,\n",
    "        initial_agents=initial_agents,\n",
    "        verbose = verbose\n",
    "    ):\n",
    "        \"\"\"\n",
    "        \"\"\"\n",
    "        super().__init__()\n",
    "        # Set parameters\n",
    "        self.width = width\n",
    "        self.height = height\n",
    "        self.initial_agents = initial_agents\n",
    "        self.verbose = verbose\n",
    "\n",
    "        self.schedule = RandomActivation(self)\n",
    "        self.grid = MultiGrid(self.width, self.height, torus=True)\n",
    "        self.datacollector = DataCollector({\"Dooders\": lambda m: m.schedule.get_agent_count()})\n",
    "        self.agent_count = 0\n",
    "\n",
    "        # Create agents:\n",
    "        for i in range(self.initial_agents):\n",
    "            x = self.random.randrange(self.width)\n",
    "            y = self.random.randrange(self.height)\n",
    "            happiness = self.random.randrange(10,90)\n",
    "            dooder = Dooder(self.next_id(), (x, y), self)\n",
    "            self.grid.place_agent(dooder, (x, y))\n",
    "            self.schedule.add(dooder)\n",
    "\n",
    "        self.running = True\n",
    "        self.datacollector.collect(self)\n",
    "\n",
    "    def step(self):\n",
    "        self.schedule.step()\n",
    "        # collect data\n",
    "        self.datacollector.collect(self)\n",
    "        if self.verbose:\n",
    "            print([self.schedule.time, self.schedule.get_agent_count()])\n",
    "\n",
    "    def run_model(self, step_count=10):\n",
    "\n",
    "        if self.verbose:\n",
    "            print(\"Initial number dooders: \", self.schedule.get_agent_count())\n",
    "\n",
    "        for i in range(step_count):\n",
    "            self.agent_count = self.schedule.get_agent_count()\n",
    "            # running status\n",
    "            # metrics\n",
    "            self.step()\n",
    "\n",
    "        if self.verbose:\n",
    "            print(\"\")\n",
    "            print(\"Final number dooders: \", self.schedule.get_agent_count())"
   ]
  },
  {
   "cell_type": "code",
   "execution_count": 36,
   "metadata": {
    "ExecuteTime": {
     "end_time": "2022-07-12T03:19:28.033766Z",
     "start_time": "2022-07-12T03:19:28.024763Z"
    }
   },
   "outputs": [],
   "source": [
    "test = Simulation()"
   ]
  },
  {
   "cell_type": "code",
   "execution_count": 37,
   "metadata": {
    "ExecuteTime": {
     "end_time": "2022-07-12T03:19:28.596334Z",
     "start_time": "2022-07-12T03:19:28.580763Z"
    }
   },
   "outputs": [
    {
     "data": {
      "text/plain": [
       "10"
      ]
     },
     "execution_count": 37,
     "metadata": {},
     "output_type": "execute_result"
    }
   ],
   "source": [
    "test.current_id"
   ]
  },
  {
   "cell_type": "code",
   "execution_count": 38,
   "metadata": {
    "ExecuteTime": {
     "end_time": "2022-07-12T03:19:29.469959Z",
     "start_time": "2022-07-12T03:19:29.453958Z"
    }
   },
   "outputs": [
    {
     "name": "stdout",
     "output_type": "stream",
     "text": [
      "Initial number dooders:  10\n",
      "6\n",
      "2\n",
      "9\n",
      "4\n",
      "8\n",
      "1\n",
      "5\n",
      "7\n",
      "10\n",
      "3\n",
      "[1, 10]\n",
      "\n",
      "Final number dooders:  10\n"
     ]
    }
   ],
   "source": [
    "test.run_model()"
   ]
  },
  {
   "cell_type": "code",
   "execution_count": 39,
   "metadata": {
    "ExecuteTime": {
     "end_time": "2022-07-12T03:19:31.272933Z",
     "start_time": "2022-07-12T03:19:31.259596Z"
    }
   },
   "outputs": [
    {
     "data": {
      "text/plain": [
       "True"
      ]
     },
     "execution_count": 39,
     "metadata": {},
     "output_type": "execute_result"
    }
   ],
   "source": [
    "test.running"
   ]
  },
  {
   "cell_type": "code",
   "execution_count": 40,
   "metadata": {
    "ExecuteTime": {
     "end_time": "2022-07-12T03:19:32.146520Z",
     "start_time": "2022-07-12T03:19:32.131519Z"
    }
   },
   "outputs": [],
   "source": [
    "# How to stop a model in progress\n",
    "# Does the class save actions taken?"
   ]
  },
  {
   "cell_type": "code",
   "execution_count": 41,
   "metadata": {
    "ExecuteTime": {
     "end_time": "2022-07-12T03:19:32.863671Z",
     "start_time": "2022-07-12T03:19:32.850671Z"
    }
   },
   "outputs": [
    {
     "data": {
      "text/plain": [
       "[<__main__.Dooder at 0x2363ec905b0>,\n",
       " <__main__.Dooder at 0x2363ec90f10>,\n",
       " <__main__.Dooder at 0x2363ec90e50>,\n",
       " <__main__.Dooder at 0x2363ec90dc0>,\n",
       " <__main__.Dooder at 0x2363ec90f40>,\n",
       " <__main__.Dooder at 0x2363ec90b50>,\n",
       " <__main__.Dooder at 0x2363ec90ac0>,\n",
       " <__main__.Dooder at 0x2363ec90be0>,\n",
       " <__main__.Dooder at 0x2363ec90a00>,\n",
       " <__main__.Dooder at 0x2363ec909a0>]"
      ]
     },
     "execution_count": 41,
     "metadata": {},
     "output_type": "execute_result"
    }
   ],
   "source": [
    "test.schedule.agents"
   ]
  },
  {
   "cell_type": "code",
   "execution_count": 42,
   "metadata": {
    "ExecuteTime": {
     "end_time": "2022-07-12T03:19:33.436250Z",
     "start_time": "2022-07-12T03:19:33.420070Z"
    }
   },
   "outputs": [
    {
     "data": {
      "text/plain": [
       "(9, 4)"
      ]
     },
     "execution_count": 42,
     "metadata": {},
     "output_type": "execute_result"
    }
   ],
   "source": [
    "test.schedule.agents[1].pos"
   ]
  },
  {
   "cell_type": "code",
   "execution_count": 43,
   "metadata": {
    "ExecuteTime": {
     "end_time": "2022-07-12T03:19:34.373503Z",
     "start_time": "2022-07-12T03:19:34.354499Z"
    }
   },
   "outputs": [
    {
     "data": {
      "text/plain": [
       "[<__main__.Dooder at 0x2363ec90a00>, <__main__.Dooder at 0x2363ec90ac0>]"
      ]
     },
     "execution_count": 43,
     "metadata": {},
     "output_type": "execute_result"
    }
   ],
   "source": [
    "test.grid.get_neighbors((10,16), moore=True)"
   ]
  },
  {
   "cell_type": "code",
   "execution_count": 44,
   "metadata": {
    "ExecuteTime": {
     "end_time": "2022-07-12T03:19:36.621066Z",
     "start_time": "2022-07-12T03:19:36.593874Z"
    }
   },
   "outputs": [
    {
     "data": {
      "text/html": [
       "<div>\n",
       "<style scoped>\n",
       "    .dataframe tbody tr th:only-of-type {\n",
       "        vertical-align: middle;\n",
       "    }\n",
       "\n",
       "    .dataframe tbody tr th {\n",
       "        vertical-align: top;\n",
       "    }\n",
       "\n",
       "    .dataframe thead th {\n",
       "        text-align: right;\n",
       "    }\n",
       "</style>\n",
       "<table border=\"1\" class=\"dataframe\">\n",
       "  <thead>\n",
       "    <tr style=\"text-align: right;\">\n",
       "      <th></th>\n",
       "      <th></th>\n",
       "    </tr>\n",
       "    <tr>\n",
       "      <th>Step</th>\n",
       "      <th>AgentID</th>\n",
       "    </tr>\n",
       "  </thead>\n",
       "  <tbody>\n",
       "  </tbody>\n",
       "</table>\n",
       "</div>"
      ],
      "text/plain": [
       "Empty DataFrame\n",
       "Columns: []\n",
       "Index: []"
      ]
     },
     "execution_count": 44,
     "metadata": {},
     "output_type": "execute_result"
    }
   ],
   "source": [
    "test.datacollector.get_agent_vars_dataframe()"
   ]
  },
  {
   "cell_type": "code",
   "execution_count": 45,
   "metadata": {
    "ExecuteTime": {
     "end_time": "2022-07-12T03:19:37.509850Z",
     "start_time": "2022-07-12T03:19:37.491062Z"
    }
   },
   "outputs": [
    {
     "data": {
      "text/html": [
       "<div>\n",
       "<style scoped>\n",
       "    .dataframe tbody tr th:only-of-type {\n",
       "        vertical-align: middle;\n",
       "    }\n",
       "\n",
       "    .dataframe tbody tr th {\n",
       "        vertical-align: top;\n",
       "    }\n",
       "\n",
       "    .dataframe thead th {\n",
       "        text-align: right;\n",
       "    }\n",
       "</style>\n",
       "<table border=\"1\" class=\"dataframe\">\n",
       "  <thead>\n",
       "    <tr style=\"text-align: right;\">\n",
       "      <th></th>\n",
       "      <th>Dooders</th>\n",
       "    </tr>\n",
       "  </thead>\n",
       "  <tbody>\n",
       "    <tr>\n",
       "      <th>0</th>\n",
       "      <td>10</td>\n",
       "    </tr>\n",
       "    <tr>\n",
       "      <th>1</th>\n",
       "      <td>10</td>\n",
       "    </tr>\n",
       "  </tbody>\n",
       "</table>\n",
       "</div>"
      ],
      "text/plain": [
       "   Dooders\n",
       "0       10\n",
       "1       10"
      ]
     },
     "execution_count": 45,
     "metadata": {},
     "output_type": "execute_result"
    }
   ],
   "source": [
    "test.datacollector.get_model_vars_dataframe()"
   ]
  },
  {
   "cell_type": "code",
   "execution_count": 46,
   "metadata": {
    "ExecuteTime": {
     "end_time": "2022-07-12T03:19:40.633784Z",
     "start_time": "2022-07-12T03:19:40.610783Z"
    }
   },
   "outputs": [
    {
     "data": {
      "text/plain": [
       "{}"
      ]
     },
     "execution_count": 46,
     "metadata": {},
     "output_type": "execute_result"
    }
   ],
   "source": [
    "test.datacollector.tables"
   ]
  },
  {
   "cell_type": "code",
   "execution_count": 47,
   "metadata": {
    "ExecuteTime": {
     "end_time": "2022-07-12T03:19:41.182785Z",
     "start_time": "2022-07-12T03:19:41.171785Z"
    }
   },
   "outputs": [
    {
     "data": {
      "text/plain": [
       "True"
      ]
     },
     "execution_count": 47,
     "metadata": {},
     "output_type": "execute_result"
    }
   ],
   "source": [
    "test.grid.torus"
   ]
  },
  {
   "cell_type": "code",
   "execution_count": null,
   "metadata": {},
   "outputs": [],
   "source": []
  },
  {
   "cell_type": "code",
   "execution_count": null,
   "metadata": {},
   "outputs": [],
   "source": []
  }
 ],
 "metadata": {
  "kernelspec": {
   "display_name": "Python 3 (ipykernel)",
   "language": "python",
   "name": "python3"
  },
  "language_info": {
   "codemirror_mode": {
    "name": "ipython",
    "version": 3
   },
   "file_extension": ".py",
   "mimetype": "text/x-python",
   "name": "python",
   "nbconvert_exporter": "python",
   "pygments_lexer": "ipython3",
   "version": "3.9.12"
  },
  "toc": {
   "base_numbering": 1,
   "nav_menu": {},
   "number_sections": true,
   "sideBar": true,
   "skip_h1_title": false,
   "title_cell": "Table of Contents",
   "title_sidebar": "Contents",
   "toc_cell": false,
   "toc_position": {},
   "toc_section_display": true,
   "toc_window_display": false
  }
 },
 "nbformat": 4,
 "nbformat_minor": 4
}
