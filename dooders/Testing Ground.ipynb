{
 "cells": [
  {
   "cell_type": "code",
   "execution_count": 3,
   "id": "06cdbe76",
   "metadata": {
    "ExecuteTime": {
     "end_time": "2022-07-27T23:38:05.352201Z",
     "start_time": "2022-07-27T23:38:05.335201Z"
    }
   },
   "outputs": [],
   "source": [
    "import mesa\n",
    "from mesa import Model\n",
    "from mesa.datacollection import DataCollector\n",
    "from mesa.space import MultiGrid\n",
    "from mesa.time import RandomActivation\n",
    "from random import randrange, choices, sample\n",
    "import random"
   ]
  },
  {
   "cell_type": "code",
   "execution_count": 7,
   "id": "b9061d81",
   "metadata": {
    "ExecuteTime": {
     "end_time": "2022-07-27T23:38:37.349986Z",
     "start_time": "2022-07-27T23:38:37.340978Z"
    }
   },
   "outputs": [
    {
     "ename": "ModuleNotFoundError",
     "evalue": "No module named 'dooders'",
     "output_type": "error",
     "traceback": [
      "\u001b[1;31m---------------------------------------------------------------------------\u001b[0m",
      "\u001b[1;31mModuleNotFoundError\u001b[0m                       Traceback (most recent call last)",
      "\u001b[1;32m<ipython-input-7-5c0f17dbf3e4>\u001b[0m in \u001b[0;36m<module>\u001b[1;34m\u001b[0m\n\u001b[1;32m----> 1\u001b[1;33m \u001b[1;32mfrom\u001b[0m \u001b[0mdooders\u001b[0m\u001b[1;33m.\u001b[0m\u001b[0mSimulation\u001b[0m \u001b[1;32mimport\u001b[0m \u001b[0mSimulation\u001b[0m\u001b[1;33m\u001b[0m\u001b[1;33m\u001b[0m\u001b[0m\n\u001b[0m",
      "\u001b[1;31mModuleNotFoundError\u001b[0m: No module named 'dooders'"
     ]
    }
   ],
   "source": [
    "from dooders.Simulation import Simulation"
   ]
  },
  {
   "cell_type": "code",
   "execution_count": null,
   "id": "f72fde5e",
   "metadata": {},
   "outputs": [],
   "source": []
  }
 ],
 "metadata": {
  "kernelspec": {
   "display_name": "Python 3",
   "language": "python",
   "name": "python3"
  },
  "language_info": {
   "codemirror_mode": {
    "name": "ipython",
    "version": 3
   },
   "file_extension": ".py",
   "mimetype": "text/x-python",
   "name": "python",
   "nbconvert_exporter": "python",
   "pygments_lexer": "ipython3",
   "version": "3.7.13"
  },
  "toc": {
   "base_numbering": 1,
   "nav_menu": {},
   "number_sections": true,
   "sideBar": true,
   "skip_h1_title": false,
   "title_cell": "Table of Contents",
   "title_sidebar": "Contents",
   "toc_cell": false,
   "toc_position": {},
   "toc_section_display": true,
   "toc_window_display": false
  }
 },
 "nbformat": 4,
 "nbformat_minor": 5
}
