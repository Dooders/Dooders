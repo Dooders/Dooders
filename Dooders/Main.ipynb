{
 "cells": [
  {
   "cell_type": "code",
   "execution_count": 8,
   "metadata": {
    "ExecuteTime": {
     "end_time": "2022-01-14T18:22:23.389626Z",
     "start_time": "2022-01-14T18:22:23.387627Z"
    }
   },
   "outputs": [],
   "source": [
    "from choices import Choice\n",
    "from dooder import Dooder\n",
    "from reality import Reality"
   ]
  },
  {
   "cell_type": "code",
   "execution_count": 9,
   "metadata": {
    "ExecuteTime": {
     "end_time": "2022-01-14T18:22:25.261694Z",
     "start_time": "2022-01-14T18:22:25.253695Z"
    }
   },
   "outputs": [],
   "source": [
    "person = Dooder()"
   ]
  },
  {
   "cell_type": "code",
   "execution_count": 16,
   "metadata": {
    "ExecuteTime": {
     "end_time": "2022-01-14T18:25:44.380406Z",
     "start_time": "2022-01-14T18:25:44.364169Z"
    }
   },
   "outputs": [],
   "source": [
    "# Main function to make a choice\n",
    "def make_choice():\n",
    "    choice_attribute = get_choice_attribute()\n",
    "    # filter choices\n",
    "    # select choice\n",
    "    # choice outcome\n",
    "    # choice consequences"
   ]
  },
  {
   "cell_type": "code",
   "execution_count": 10,
   "metadata": {
    "ExecuteTime": {
     "end_time": "2022-01-14T18:22:37.879251Z",
     "start_time": "2022-01-14T18:22:37.873245Z"
    }
   },
   "outputs": [
    {
     "data": {
      "text/plain": [
       "{'GenericChoice1': choices.GenericChoice1,\n",
       " 'GenericChoice2': choices.GenericChoice2,\n",
       " 'GenericChoice3': choices.GenericChoice3}"
      ]
     },
     "execution_count": 10,
     "metadata": {},
     "output_type": "execute_result"
    }
   ],
   "source": [
    "Reality.all_possible_choices"
   ]
  },
  {
   "cell_type": "code",
   "execution_count": 11,
   "metadata": {
    "ExecuteTime": {
     "end_time": "2022-01-14T18:23:34.486603Z",
     "start_time": "2022-01-14T18:23:34.475603Z"
    }
   },
   "outputs": [
    {
     "data": {
      "text/plain": [
       "0"
      ]
     },
     "execution_count": 11,
     "metadata": {},
     "output_type": "execute_result"
    }
   ],
   "source": [
    "Reality.counter"
   ]
  },
  {
   "cell_type": "code",
   "execution_count": 12,
   "metadata": {
    "ExecuteTime": {
     "end_time": "2022-01-14T18:23:42.874140Z",
     "start_time": "2022-01-14T18:23:42.871139Z"
    }
   },
   "outputs": [],
   "source": [
    "Reality.counter += 1"
   ]
  },
  {
   "cell_type": "code",
   "execution_count": 13,
   "metadata": {
    "ExecuteTime": {
     "end_time": "2022-01-14T18:23:46.644608Z",
     "start_time": "2022-01-14T18:23:46.631585Z"
    }
   },
   "outputs": [
    {
     "data": {
      "text/plain": [
       "1"
      ]
     },
     "execution_count": 13,
     "metadata": {},
     "output_type": "execute_result"
    }
   ],
   "source": [
    "Reality.counter"
   ]
  },
  {
   "cell_type": "code",
   "execution_count": null,
   "metadata": {},
   "outputs": [],
   "source": [
    "def filter_choices(available_choices, attribute):\n",
    "    return {k:v for (k,v) in available_choices.items() if attribute in getattr(v, 'attributes')}"
   ]
  }
 ],
 "metadata": {
  "kernelspec": {
   "display_name": "Python 3",
   "language": "python",
   "name": "python3"
  },
  "language_info": {
   "codemirror_mode": {
    "name": "ipython",
    "version": 3
   },
   "file_extension": ".py",
   "mimetype": "text/x-python",
   "name": "python",
   "nbconvert_exporter": "python",
   "pygments_lexer": "ipython3",
   "version": "3.7.9"
  },
  "toc": {
   "base_numbering": 1,
   "nav_menu": {},
   "number_sections": true,
   "sideBar": true,
   "skip_h1_title": false,
   "title_cell": "Table of Contents",
   "title_sidebar": "Contents",
   "toc_cell": false,
   "toc_position": {},
   "toc_section_display": true,
   "toc_window_display": false
  }
 },
 "nbformat": 4,
 "nbformat_minor": 4
}
