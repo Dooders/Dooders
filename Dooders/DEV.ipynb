{
 "cells": [
  {
   "cell_type": "markdown",
   "metadata": {},
   "source": [
    "# Traits\n",
    "Genetically based modifiers  \n",
    "Surrounding based modifiers  \n",
    "Random based modifiers  "
   ]
  },
  {
   "cell_type": "code",
   "execution_count": null,
   "metadata": {},
   "outputs": [],
   "source": []
  },
  {
   "cell_type": "markdown",
   "metadata": {},
   "source": [
    "# Attributes\n",
    "Strength - based in genetics and will  \n",
    "Intelligence - based on genetics with some surroundings influence  \n",
    "Charisma - based on genetics and personality type  \n",
    "Wisdom - based on age and experience  \n",
    "Will - genetically based  "
   ]
  },
  {
   "cell_type": "code",
   "execution_count": null,
   "metadata": {},
   "outputs": [],
   "source": []
  },
  {
   "cell_type": "markdown",
   "metadata": {},
   "source": [
    "# Genetics"
   ]
  },
  {
   "cell_type": "markdown",
   "metadata": {},
   "source": [
    "## Strength"
   ]
  },
  {
   "cell_type": "code",
   "execution_count": null,
   "metadata": {},
   "outputs": [],
   "source": []
  },
  {
   "cell_type": "code",
   "execution_count": null,
   "metadata": {},
   "outputs": [],
   "source": []
  },
  {
   "cell_type": "code",
   "execution_count": null,
   "metadata": {},
   "outputs": [],
   "source": []
  },
  {
   "cell_type": "code",
   "execution_count": null,
   "metadata": {},
   "outputs": [],
   "source": [
    "    "
   ]
  },
  {
   "cell_type": "code",
   "execution_count": 1,
   "metadata": {
    "ExecuteTime": {
     "end_time": "2022-01-02T19:44:12.566010Z",
     "start_time": "2022-01-02T19:44:12.556005Z"
    }
   },
   "outputs": [],
   "source": [
    "BASE_STRENGTH = 5\n",
    "BASE_INTELLIGENCE = 5\n",
    "BASE_CHARISMA = 5\n",
    "BASE_WILL = 5\n",
    "BASE_HEALTH = 5"
   ]
  },
  {
   "cell_type": "markdown",
   "metadata": {},
   "source": [
    "# Surroundings"
   ]
  },
  {
   "cell_type": "code",
   "execution_count": null,
   "metadata": {},
   "outputs": [],
   "source": []
  },
  {
   "cell_type": "markdown",
   "metadata": {},
   "source": [
    "# Modifiers"
   ]
  },
  {
   "cell_type": "code",
   "execution_count": null,
   "metadata": {},
   "outputs": [],
   "source": []
  },
  {
   "cell_type": "markdown",
   "metadata": {},
   "source": [
    "# States"
   ]
  },
  {
   "cell_type": "code",
   "execution_count": null,
   "metadata": {},
   "outputs": [],
   "source": []
  },
  {
   "cell_type": "code",
   "execution_count": null,
   "metadata": {},
   "outputs": [],
   "source": []
  },
  {
   "cell_type": "code",
   "execution_count": null,
   "metadata": {},
   "outputs": [],
   "source": []
  },
  {
   "cell_type": "code",
   "execution_count": null,
   "metadata": {},
   "outputs": [],
   "source": []
  },
  {
   "cell_type": "code",
   "execution_count": 2,
   "metadata": {
    "ExecuteTime": {
     "end_time": "2022-01-02T19:44:15.517908Z",
     "start_time": "2022-01-02T19:44:12.571540Z"
    }
   },
   "outputs": [],
   "source": [
    "import numpy as np\n",
    "import random\n",
    "import matplotlib.pyplot as plt\n",
    "%matplotlib inline"
   ]
  },
  {
   "cell_type": "code",
   "execution_count": 3,
   "metadata": {
    "ExecuteTime": {
     "end_time": "2022-01-02T19:44:15.609948Z",
     "start_time": "2022-01-02T19:44:15.520908Z"
    }
   },
   "outputs": [],
   "source": [
    "results = []\n",
    "\n",
    "sampleList = [100, 200, 300, 400, 500]\n",
    "weights=(80, 20, 30, 40, 10)\n",
    "\n",
    "for i in range(10000):\n",
    "  \n",
    "    randomval = random.choices(sampleList, weights, k=1)\n",
    "    results.append(randomval[0])"
   ]
  },
  {
   "cell_type": "code",
   "execution_count": 4,
   "metadata": {
    "ExecuteTime": {
     "end_time": "2022-01-02T19:44:16.015910Z",
     "start_time": "2022-01-02T19:44:15.613913Z"
    }
   },
   "outputs": [
    {
     "data": {
      "text/plain": [
       "<function matplotlib.pyplot.show(*args, **kw)>"
      ]
     },
     "execution_count": 4,
     "metadata": {},
     "output_type": "execute_result"
    },
    {
     "data": {
      "image/png": "[encoded data removed]",
      "text/plain": [
       "<Figure size 432x288 with 1 Axes>"
      ]
     },
     "metadata": {
      "needs_background": "light"
     },
     "output_type": "display_data"
    }
   ],
   "source": [
    "plt.hist(results, density=True, bins=5)  \n",
    "plt.show"
   ]
  },
  {
   "cell_type": "code",
   "execution_count": 5,
   "metadata": {
    "ExecuteTime": {
     "end_time": "2022-01-02T19:44:16.030907Z",
     "start_time": "2022-01-02T19:44:16.020906Z"
    }
   },
   "outputs": [],
   "source": [
    "attribute_range = list(range(1,100))"
   ]
  },
  {
   "cell_type": "code",
   "execution_count": 6,
   "metadata": {
    "ExecuteTime": {
     "end_time": "2022-01-02T19:44:16.046909Z",
     "start_time": "2022-01-02T19:44:16.035908Z"
    }
   },
   "outputs": [
    {
     "data": {
      "text/plain": [
       "99"
      ]
     },
     "execution_count": 6,
     "metadata": {},
     "output_type": "execute_result"
    }
   ],
   "source": [
    "len(attribute_range)"
   ]
  },
  {
   "cell_type": "code",
   "execution_count": 7,
   "metadata": {
    "ExecuteTime": {
     "end_time": "2022-01-02T19:44:16.061910Z",
     "start_time": "2022-01-02T19:44:16.051911Z"
    }
   },
   "outputs": [],
   "source": [
    "upper_attribute_weights = list(reversed(range(1,51)))\n",
    "lower_attribute_weights = list(range(1,50))\n",
    "combined_attribute_weights = lower_attribute_weights + upper_attribute_weights"
   ]
  },
  {
   "cell_type": "code",
   "execution_count": 8,
   "metadata": {
    "ExecuteTime": {
     "end_time": "2022-01-02T19:44:16.093119Z",
     "start_time": "2022-01-02T19:44:16.067909Z"
    }
   },
   "outputs": [
    {
     "name": "stdout",
     "output_type": "stream",
     "text": [
      "50\n",
      "49\n"
     ]
    }
   ],
   "source": [
    "print(len(upper_attribute_weights))\n",
    "print(len(lower_attribute_weights))"
   ]
  },
  {
   "cell_type": "code",
   "execution_count": 9,
   "metadata": {
    "ExecuteTime": {
     "end_time": "2022-01-02T19:44:16.109008Z",
     "start_time": "2022-01-02T19:44:16.097909Z"
    }
   },
   "outputs": [
    {
     "data": {
      "text/plain": [
       "99"
      ]
     },
     "execution_count": 9,
     "metadata": {},
     "output_type": "execute_result"
    }
   ],
   "source": [
    "len(combined_attribute_weights)"
   ]
  },
  {
   "cell_type": "code",
   "execution_count": 10,
   "metadata": {
    "ExecuteTime": {
     "end_time": "2022-01-02T19:44:34.348439Z",
     "start_time": "2022-01-02T19:44:16.113907Z"
    }
   },
   "outputs": [],
   "source": [
    "results = []\n",
    "for i in range(1000000):\n",
    "  \n",
    "    randomval = random.choices(attribute_range, combined_attribute_weights, k=1)\n",
    "    results.append(randomval[0])"
   ]
  },
  {
   "cell_type": "code",
   "execution_count": 11,
   "metadata": {
    "ExecuteTime": {
     "end_time": "2022-01-02T19:44:35.565260Z",
     "start_time": "2022-01-02T19:44:34.352441Z"
    }
   },
   "outputs": [
    {
     "data": {
      "text/plain": [
       "<function matplotlib.pyplot.show(*args, **kw)>"
      ]
     },
     "execution_count": 11,
     "metadata": {},
     "output_type": "execute_result"
    },
    {
     "data": {
      "image/png": "[encoded data removed]",
      "text/plain": [
       "<Figure size 432x288 with 1 Axes>"
      ]
     },
     "metadata": {
      "needs_background": "light"
     },
     "output_type": "display_data"
    }
   ],
   "source": [
    "plt.hist(results, density=True, bins=99)  \n",
    "plt.show"
   ]
  },
  {
   "cell_type": "code",
   "execution_count": 12,
   "metadata": {
    "ExecuteTime": {
     "end_time": "2022-01-02T19:44:35.580968Z",
     "start_time": "2022-01-02T19:44:35.569964Z"
    }
   },
   "outputs": [],
   "source": [
    "# distributions:\n",
    "# triangle\n",
    "# normal\n",
    "# right-skewed\n",
    "# left_skewed\n",
    "# bimodal"
   ]
  },
  {
   "cell_type": "code",
   "execution_count": null,
   "metadata": {},
   "outputs": [],
   "source": []
  },
  {
   "cell_type": "code",
   "execution_count": 13,
   "metadata": {
    "ExecuteTime": {
     "end_time": "2022-01-02T19:44:35.596965Z",
     "start_time": "2022-01-02T19:44:35.585967Z"
    }
   },
   "outputs": [],
   "source": [
    "# This will determine the attribute distribution as a\n",
    "# RNG element to Dooder spawning\n",
    "WEIGHT_TYPE = 'normal_distribution' # left-skewed, right-skewed, bimodal"
   ]
  },
  {
   "cell_type": "code",
   "execution_count": 14,
   "metadata": {
    "ExecuteTime": {
     "end_time": "2022-01-02T19:44:35.627153Z",
     "start_time": "2022-01-02T19:44:35.602966Z"
    }
   },
   "outputs": [],
   "source": [
    "import names\n",
    "import typing\n",
    "from typing import Type\n",
    "\n",
    "import numpy as np\n",
    "import random\n",
    "import matplotlib.pyplot as plt\n",
    "%matplotlib inline"
   ]
  },
  {
   "cell_type": "code",
   "execution_count": 15,
   "metadata": {
    "ExecuteTime": {
     "end_time": "2022-01-02T19:44:35.642293Z",
     "start_time": "2022-01-02T19:44:35.632974Z"
    }
   },
   "outputs": [],
   "source": [
    "attribute_list = ['Strength',\n",
    "                  'Intelligence',\n",
    "                  'Creativity',\n",
    "                  'Compassion',\n",
    "                  'Aggressiveness',\n",
    "                  'Tolerance',\n",
    "                  'Riskiness',\n",
    "                  'Charisma',\n",
    "                  'Luck',\n",
    "                  'Will']"
   ]
  },
  {
   "cell_type": "code",
   "execution_count": 16,
   "metadata": {
    "ExecuteTime": {
     "end_time": "2022-01-02T19:44:35.673204Z",
     "start_time": "2022-01-02T19:44:35.651968Z"
    }
   },
   "outputs": [],
   "source": [
    "class Attributes:\n",
    "    Strength : Type[int]"
   ]
  },
  {
   "cell_type": "code",
   "execution_count": 17,
   "metadata": {
    "ExecuteTime": {
     "end_time": "2022-01-02T19:44:35.689062Z",
     "start_time": "2022-01-02T19:44:35.678969Z"
    }
   },
   "outputs": [],
   "source": [
    "t = Attributes()"
   ]
  },
  {
   "cell_type": "code",
   "execution_count": 18,
   "metadata": {
    "ExecuteTime": {
     "end_time": "2022-01-02T19:44:35.704968Z",
     "start_time": "2022-01-02T19:44:35.694968Z"
    }
   },
   "outputs": [],
   "source": [
    "class Dooder:\n",
    "    def __init__(self):\n",
    "        self.birth_date = 1\n",
    "        self.name = names.get_full_name()\n",
    "        self.motivation = ''\n",
    "        self.base_attributes = spawn_attributes(attribute_list, attribute_range, weights)\n",
    "        self.attributes = self.base_attributes"
   ]
  },
  {
   "cell_type": "code",
   "execution_count": 19,
   "metadata": {
    "ExecuteTime": {
     "end_time": "2022-01-02T19:44:35.736126Z",
     "start_time": "2022-01-02T19:44:35.710973Z"
    }
   },
   "outputs": [],
   "source": [
    "def get_weights(weight_type='normal'):\n",
    "    if weight_type == 'normal':\n",
    "        upper_attribute_weights = list(reversed(range(1,51)))\n",
    "        lower_attribute_weights = list(range(1,50))\n",
    "        weights = lower_attribute_weights + upper_attribute_weights\n",
    "        \n",
    "    return weights\n",
    "\n",
    "def get_attribute_range(start, stop):\n",
    "    return list(range(start,stop))"
   ]
  },
  {
   "cell_type": "code",
   "execution_count": 20,
   "metadata": {
    "ExecuteTime": {
     "end_time": "2022-01-02T19:44:35.766410Z",
     "start_time": "2022-01-02T19:44:35.741969Z"
    }
   },
   "outputs": [],
   "source": [
    "def _spawn_attribute(attribute_range, weights):\n",
    "    return random.choices(attribute_range, weights, k=1)[0]\n",
    "\n",
    "def spawn_attributes(attribute_list, attribute_range, weights):\n",
    "    spawned_attributes = dict()\n",
    "    for attribute in attribute_list:\n",
    "        spawned_attributes[attribute] = _spawn_attribute(attribute_range, weights)\n",
    "        \n",
    "    return spawned_attributes"
   ]
  },
  {
   "cell_type": "code",
   "execution_count": 21,
   "metadata": {
    "ExecuteTime": {
     "end_time": "2022-01-02T19:44:35.781547Z",
     "start_time": "2022-01-02T19:44:35.771969Z"
    }
   },
   "outputs": [],
   "source": [
    "weights = get_weights()\n",
    "attribute_range = get_attribute_range(1,100)"
   ]
  },
  {
   "cell_type": "code",
   "execution_count": null,
   "metadata": {},
   "outputs": [],
   "source": []
  },
  {
   "cell_type": "code",
   "execution_count": 22,
   "metadata": {
    "ExecuteTime": {
     "end_time": "2022-01-02T19:44:35.828964Z",
     "start_time": "2022-01-02T19:44:35.787969Z"
    }
   },
   "outputs": [],
   "source": [
    "d = Dooder()"
   ]
  },
  {
   "cell_type": "code",
   "execution_count": 23,
   "metadata": {
    "ExecuteTime": {
     "end_time": "2022-01-02T19:44:35.844029Z",
     "start_time": "2022-01-02T19:44:35.832969Z"
    }
   },
   "outputs": [
    {
     "data": {
      "text/plain": [
       "'Shirley Gilmer'"
      ]
     },
     "execution_count": 23,
     "metadata": {},
     "output_type": "execute_result"
    }
   ],
   "source": [
    "d.name"
   ]
  },
  {
   "cell_type": "code",
   "execution_count": 24,
   "metadata": {
    "ExecuteTime": {
     "end_time": "2022-01-02T19:44:35.875158Z",
     "start_time": "2022-01-02T19:44:35.848968Z"
    }
   },
   "outputs": [
    {
     "data": {
      "text/plain": [
       "{'Strength': 49,\n",
       " 'Intelligence': 62,\n",
       " 'Creativity': 57,\n",
       " 'Compassion': 39,\n",
       " 'Aggressiveness': 67,\n",
       " 'Tolerance': 38,\n",
       " 'Riskiness': 79,\n",
       " 'Charisma': 15,\n",
       " 'Luck': 48,\n",
       " 'Will': 62}"
      ]
     },
     "execution_count": 24,
     "metadata": {},
     "output_type": "execute_result"
    }
   ],
   "source": [
    "d.base_attributes"
   ]
  },
  {
   "cell_type": "code",
   "execution_count": 30,
   "metadata": {
    "ExecuteTime": {
     "end_time": "2022-01-02T19:48:59.114613Z",
     "start_time": "2022-01-02T19:48:59.092527Z"
    }
   },
   "outputs": [],
   "source": [
    "def get_choice_attribute():\n",
    "    attributes = list(d.base_attributes.keys())\n",
    "    weights = list(d.base_attributes.values())\n",
    "    \n",
    "    return random.choices(attributes, weights, k=1)[0]"
   ]
  },
  {
   "cell_type": "code",
   "execution_count": 68,
   "metadata": {
    "ExecuteTime": {
     "end_time": "2022-01-02T19:59:54.258040Z",
     "start_time": "2022-01-02T19:59:54.247333Z"
    }
   },
   "outputs": [],
   "source": [
    "# Main function to make a choice\n",
    "def make_choice():\n",
    "    choice_attribute = get_choice_attribute()\n",
    "    # filter choices\n",
    "    # select choice\n",
    "    # choice outcome\n",
    "    # choice consequences"
   ]
  },
  {
   "cell_type": "code",
   "execution_count": 66,
   "metadata": {
    "ExecuteTime": {
     "end_time": "2022-01-02T19:58:06.369840Z",
     "start_time": "2022-01-02T19:58:06.348658Z"
    }
   },
   "outputs": [],
   "source": [
    "def function_distribution_plot(func, n=10000, *args, **kwargs):\n",
    "    results = []\n",
    "    for i in range(n):\n",
    "        result = func( *args, **kwargs)\n",
    "        results.append(result)\n",
    "        \n",
    "    plt.figure(figsize=(15,10))\n",
    "    plt.hist(results, density=True, bins=99)  \n",
    "    plt.show"
   ]
  },
  {
   "cell_type": "code",
   "execution_count": 67,
   "metadata": {
    "ExecuteTime": {
     "end_time": "2022-01-02T19:58:07.493824Z",
     "start_time": "2022-01-02T19:58:06.527659Z"
    }
   },
   "outputs": [
    {
     "data": {
      "image/png": "[encoded data removed]",
      "text/plain": [
       "<Figure size 1080x720 with 1 Axes>"
      ]
     },
     "metadata": {
      "needs_background": "light"
     },
     "output_type": "display_data"
    }
   ],
   "source": [
    "function_distribution_plot(get_choice_attribute)"
   ]
  },
  {
   "cell_type": "code",
   "execution_count": null,
   "metadata": {},
   "outputs": [],
   "source": []
  },
  {
   "cell_type": "code",
   "execution_count": null,
   "metadata": {},
   "outputs": [],
   "source": []
  },
  {
   "cell_type": "code",
   "execution_count": null,
   "metadata": {},
   "outputs": [],
   "source": []
  },
  {
   "cell_type": "code",
   "execution_count": null,
   "metadata": {},
   "outputs": [],
   "source": []
  },
  {
   "cell_type": "code",
   "execution_count": null,
   "metadata": {},
   "outputs": [],
   "source": []
  },
  {
   "cell_type": "code",
   "execution_count": 46,
   "metadata": {
    "ExecuteTime": {
     "end_time": "2022-01-02T19:51:14.095170Z",
     "start_time": "2022-01-02T19:51:14.085859Z"
    }
   },
   "outputs": [
    {
     "data": {
      "text/plain": [
       "'Riskiness'"
      ]
     },
     "execution_count": 46,
     "metadata": {},
     "output_type": "execute_result"
    }
   ],
   "source": [
    "get_choice_attribute()"
   ]
  },
  {
   "cell_type": "code",
   "execution_count": 45,
   "metadata": {
    "ExecuteTime": {
     "end_time": "2022-01-02T19:51:10.616092Z",
     "start_time": "2022-01-02T19:51:10.592991Z"
    }
   },
   "outputs": [
    {
     "data": {
      "text/plain": [
       "['Strength',\n",
       " 'Intelligence',\n",
       " 'Creativity',\n",
       " 'Compassion',\n",
       " 'Aggressiveness',\n",
       " 'Tolerance',\n",
       " 'Riskiness',\n",
       " 'Charisma',\n",
       " 'Luck',\n",
       " 'Will']"
      ]
     },
     "execution_count": 45,
     "metadata": {},
     "output_type": "execute_result"
    }
   ],
   "source": [
    "list(d.base_attributes.keys())"
   ]
  },
  {
   "cell_type": "code",
   "execution_count": 29,
   "metadata": {
    "ExecuteTime": {
     "end_time": "2022-01-02T19:48:08.787082Z",
     "start_time": "2022-01-02T19:48:08.769689Z"
    }
   },
   "outputs": [
    {
     "data": {
      "text/plain": [
       "[49, 62, 57, 39, 67, 38, 79, 15, 48, 62]"
      ]
     },
     "execution_count": 29,
     "metadata": {},
     "output_type": "execute_result"
    }
   ],
   "source": [
    "list(d.base_attributes.values())"
   ]
  },
  {
   "cell_type": "code",
   "execution_count": null,
   "metadata": {},
   "outputs": [],
   "source": []
  },
  {
   "cell_type": "code",
   "execution_count": null,
   "metadata": {},
   "outputs": [],
   "source": []
  },
  {
   "cell_type": "code",
   "execution_count": null,
   "metadata": {},
   "outputs": [],
   "source": []
  },
  {
   "cell_type": "code",
   "execution_count": null,
   "metadata": {},
   "outputs": [],
   "source": []
  },
  {
   "cell_type": "code",
   "execution_count": null,
   "metadata": {},
   "outputs": [],
   "source": []
  }
 ],
 "metadata": {
  "kernelspec": {
   "display_name": "Python 3",
   "language": "python",
   "name": "python3"
  },
  "language_info": {
   "codemirror_mode": {
    "name": "ipython",
    "version": 3
   },
   "file_extension": ".py",
   "mimetype": "text/x-python",
   "name": "python",
   "nbconvert_exporter": "python",
   "pygments_lexer": "ipython3",
   "version": "3.7.9"
  },
  "toc": {
   "base_numbering": 1,
   "nav_menu": {},
   "number_sections": true,
   "sideBar": true,
   "skip_h1_title": false,
   "title_cell": "Table of Contents",
   "title_sidebar": "Contents",
   "toc_cell": false,
   "toc_position": {},
   "toc_section_display": true,
   "toc_window_display": false
  }
 },
 "nbformat": 4,
 "nbformat_minor": 4
}
