{
 "cells": [
  {
   "cell_type": "code",
   "execution_count": 1,
   "metadata": {
    "ExecuteTime": {
     "end_time": "2022-01-08T20:23:38.031371Z",
     "start_time": "2022-01-08T20:23:38.006183Z"
    }
   },
   "outputs": [],
   "source": [
    "import sys, inspect\n",
    "import choices"
   ]
  },
  {
   "cell_type": "code",
   "execution_count": 11,
   "metadata": {
    "ExecuteTime": {
     "end_time": "2022-01-08T20:24:39.926389Z",
     "start_time": "2022-01-08T20:24:39.902688Z"
    }
   },
   "outputs": [],
   "source": [
    "available_choices = dict()\n",
    "\n",
    "def compile_choices():\n",
    "    return inspect.getmembers(sys.modules['choices'])\n",
    "\n",
    "def add_choice(name, choice_object):\n",
    "    available_choices[name] = choice_object\n",
    "    \n",
    "def add_choices():\n",
    "    for name, choice_object in compile_choices():\n",
    "        if inspect.isclass(choice_object) and name != 'Choice':\n",
    "            add_choice(name, choice_object)\n",
    "            \n",
    "def filter_choices(available_choices, attribute):\n",
    "    return {k:v for (k,v) in available_choices.items() if attribute in getattr(v, 'attributes')}"
   ]
  },
  {
   "cell_type": "code",
   "execution_count": 12,
   "metadata": {
    "ExecuteTime": {
     "end_time": "2022-01-08T20:24:40.081826Z",
     "start_time": "2022-01-08T20:24:40.072744Z"
    }
   },
   "outputs": [],
   "source": [
    "add_choices()"
   ]
  },
  {
   "cell_type": "code",
   "execution_count": 13,
   "metadata": {
    "ExecuteTime": {
     "end_time": "2022-01-08T20:24:40.270763Z",
     "start_time": "2022-01-08T20:24:40.258732Z"
    }
   },
   "outputs": [
    {
     "data": {
      "text/plain": [
       "{'GenericChoice': choices.GenericChoice,\n",
       " 'GenericChoice2': choices.GenericChoice2}"
      ]
     },
     "execution_count": 13,
     "metadata": {},
     "output_type": "execute_result"
    }
   ],
   "source": [
    "available_choices"
   ]
  },
  {
   "cell_type": "code",
   "execution_count": null,
   "metadata": {},
   "outputs": [],
   "source": []
  },
  {
   "cell_type": "code",
   "execution_count": null,
   "metadata": {},
   "outputs": [],
   "source": []
  },
  {
   "cell_type": "code",
   "execution_count": null,
   "metadata": {},
   "outputs": [],
   "source": []
  },
  {
   "cell_type": "code",
   "execution_count": null,
   "metadata": {},
   "outputs": [],
   "source": []
  },
  {
   "cell_type": "code",
   "execution_count": null,
   "metadata": {},
   "outputs": [],
   "source": []
  },
  {
   "cell_type": "code",
   "execution_count": null,
   "metadata": {},
   "outputs": [],
   "source": []
  }
 ],
 "metadata": {
  "kernelspec": {
   "display_name": "Python 3",
   "language": "python",
   "name": "python3"
  },
  "language_info": {
   "codemirror_mode": {
    "name": "ipython",
    "version": 3
   },
   "file_extension": ".py",
   "mimetype": "text/x-python",
   "name": "python",
   "nbconvert_exporter": "python",
   "pygments_lexer": "ipython3",
   "version": "3.7.6"
  },
  "toc": {
   "base_numbering": 1,
   "nav_menu": {},
   "number_sections": true,
   "sideBar": true,
   "skip_h1_title": false,
   "title_cell": "Table of Contents",
   "title_sidebar": "Contents",
   "toc_cell": false,
   "toc_position": {},
   "toc_section_display": true,
   "toc_window_display": false
  }
 },
 "nbformat": 4,
 "nbformat_minor": 4
}
